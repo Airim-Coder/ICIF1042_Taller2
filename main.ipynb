{
 "cells": [
  {
   "cell_type": "markdown",
   "id": "3fa267e9-0d45-4f48-913c-c1531add7d50",
   "metadata": {},
   "source": [
    "### Importacion de Librerias y Modulos"
   ]
  },
  {
   "cell_type": "markdown",
   "id": "d35d7a05-58e0-4513-9679-e7a205b83dc5",
   "metadata": {},
   "source": [
    "### Importacion de Librerias y Modulos"
   ]
  },
  {
   "cell_type": "code",
   "execution_count": 1,
   "id": "f0c4217c-06c8-4239-af68-8ae3c302ce28",
   "metadata": {},
   "outputs": [],
   "source": [
    "from functions.datos import Simulador_Ventas\n",
    "import functions.limpiar_datos as ld\n",
    "import pandas as pd\n",
    "import numpy as np\n",
    "import matplotlib.pyplot as plt"
   ]
  },
  {
   "cell_type": "markdown",
   "id": "4d1fb8a3-40a7-412a-a288-ec674a46ab22",
   "metadata": {},
   "source": [
    "# Generar archivos CSV para Ventas y Clientes\n",
    "\n",
    "### Contenido:\n",
    "Modulo datos.py creado para generar csv bajo los siguientes lineamientos:\n",
    "\n",
    "1. Generar dos archivos CSV llamados \"ventas.csv\" y \"clientes.csv\" que contengan los datos de ventas y clientes, respectivamente. \n",
    "2. Los datos deben ser generados aleatoriamente utilizando funciones de probabilidad (indique en su informe que distribución uso: uniforme, normal u otra).\n",
    "3. Los valores nulos deben representarse con la palabra \"NULL\". En el archivo \"ventas.csv\"\n",
    "    - La columna \"Producto\" puede contener hasta un 10% de valores nulos. \n",
    "    - En el archivo \"clientes.csv\", las columnas \"Nombre\" y \"Edad\" pueden contener hasta un 5% de valores nulos cada una."
   ]
  },
  {
   "cell_type": "code",
   "execution_count": 2,
   "id": "3576e249-9dde-4bfc-81d8-fd45d4e69f74",
   "metadata": {
    "scrolled": true
   },
   "outputs": [
    {
     "name": "stdout",
     "output_type": "stream",
     "text": [
      "Archivo 'clientes.csv' generado con exito\n",
      "Archivo 'ventas.csv' generado con exito\n"
     ]
    },
    {
     "name": "stderr",
     "output_type": "stream",
     "text": [
      "/Users/airi0x02/Documents/Software_DS/ICIF1042_Taller2/functions/datos.py:47: FutureWarning: The behavior of DataFrame concatenation with empty or all-NA entries is deprecated. In a future version, this will no longer exclude empty or all-NA columns when determining the result dtypes. To retain the old behavior, exclude the relevant entries before the concat operation.\n",
      "  df_ventas = df_ventas._append(venta, ignore_index=True)\n"
     ]
    }
   ],
   "source": [
    "Simulador_Ventas(100,5)"
   ]
  },
  {
   "cell_type": "markdown",
   "id": "d12d968b-4b35-4aff-a93a-e3d4a66c27c9",
   "metadata": {},
   "source": [
    "# Limpieza de Datos\n",
    "\n",
    "1. Cargar los datos de ventas y clientes desde los archivos CSV generados utilizando Pandas y almacenarlos en DataFrames separados.\n",
    "2. Realizar una limpieza de datos inicial en ambos DataFrames, manejando los valores nulos y convirtiendo los tipos de datos según sea necesario.\n",
    "   Documentar en el informe los pasos realizados para la limpieza de datos. Realizar una limpieza de datos inicial en ambos DataFrames, \n",
    "   manejando los valores nulos y convirtiendo los tipos de datos según sea necesario. Documentar en el informe los pasos realizados para la limpieza de datos. \n",
    "\n",
    "## Exploración de Datos\n",
    "### Cargar Datos:"
   ]
  },
  {
   "cell_type": "code",
   "execution_count": 2,
   "id": "ae2bc98e-7556-4f24-b4d2-31be70c727e3",
   "metadata": {},
   "outputs": [],
   "source": [
    "df_ventas = pd.read_csv(\"data/ventas.csv\")"
   ]
  },
  {
   "cell_type": "code",
   "execution_count": 3,
   "id": "8125935a-eaeb-4977-8db8-e0e68a9cfa13",
   "metadata": {},
   "outputs": [
    {
     "name": "stdout",
     "output_type": "stream",
     "text": [
      "Las filas de 'ventas' que contengan valores NULL serán impotadas con la Moda \n"
     ]
    },
    {
     "name": "stderr",
     "output_type": "stream",
     "text": [
      "/Users/airi0x02/Documents/Software_DS/ICIF1042_Taller2/functions/limpiar_datos.py:30: FutureWarning: A value is trying to be set on a copy of a DataFrame or Series through chained assignment using an inplace method.\n",
      "The behavior will change in pandas 3.0. This inplace method will never work because the intermediate object on which we are setting values always behaves as a copy.\n",
      "\n",
      "For example, when doing 'df[col].method(value, inplace=True)', try using 'df.method({col: value}, inplace=True)' or df[col] = df[col].method(value) instead, to perform the operation inplace on the original object.\n",
      "\n",
      "\n",
      "  data[\"Producto\"].fillna(data[\"Producto\"].mode()[0], inplace=True)\n"
     ]
    },
    {
     "data": {
      "text/html": [
       "<div>\n",
       "<style scoped>\n",
       "    .dataframe tbody tr th:only-of-type {\n",
       "        vertical-align: middle;\n",
       "    }\n",
       "\n",
       "    .dataframe tbody tr th {\n",
       "        vertical-align: top;\n",
       "    }\n",
       "\n",
       "    .dataframe thead th {\n",
       "        text-align: right;\n",
       "    }\n",
       "</style>\n",
       "<table border=\"1\" class=\"dataframe\">\n",
       "  <thead>\n",
       "    <tr style=\"text-align: right;\">\n",
       "      <th></th>\n",
       "      <th>ID_Venta</th>\n",
       "      <th>ID_Cliente</th>\n",
       "      <th>Categoría</th>\n",
       "      <th>Producto</th>\n",
       "      <th>Precio</th>\n",
       "      <th>Cantidad</th>\n",
       "    </tr>\n",
       "  </thead>\n",
       "  <tbody>\n",
       "    <tr>\n",
       "      <th>0</th>\n",
       "      <td>1</td>\n",
       "      <td>5.0</td>\n",
       "      <td>Hogar</td>\n",
       "      <td>Refrigerador</td>\n",
       "      <td>274569.889504</td>\n",
       "      <td>3</td>\n",
       "    </tr>\n",
       "    <tr>\n",
       "      <th>1</th>\n",
       "      <td>2</td>\n",
       "      <td>1.0</td>\n",
       "      <td>Electrónica</td>\n",
       "      <td>Teléfono</td>\n",
       "      <td>179133.823780</td>\n",
       "      <td>1</td>\n",
       "    </tr>\n",
       "    <tr>\n",
       "      <th>2</th>\n",
       "      <td>3</td>\n",
       "      <td>3.0</td>\n",
       "      <td>Hogar</td>\n",
       "      <td>Horno Eléctrico</td>\n",
       "      <td>376863.189049</td>\n",
       "      <td>5</td>\n",
       "    </tr>\n",
       "    <tr>\n",
       "      <th>3</th>\n",
       "      <td>4</td>\n",
       "      <td>2.0</td>\n",
       "      <td>Electrónica</td>\n",
       "      <td>Teléfono</td>\n",
       "      <td>60724.025252</td>\n",
       "      <td>3</td>\n",
       "    </tr>\n",
       "    <tr>\n",
       "      <th>4</th>\n",
       "      <td>5</td>\n",
       "      <td>4.0</td>\n",
       "      <td>Tecnologia</td>\n",
       "      <td>Teléfono</td>\n",
       "      <td>14657.517880</td>\n",
       "      <td>2</td>\n",
       "    </tr>\n",
       "    <tr>\n",
       "      <th>...</th>\n",
       "      <td>...</td>\n",
       "      <td>...</td>\n",
       "      <td>...</td>\n",
       "      <td>...</td>\n",
       "      <td>...</td>\n",
       "      <td>...</td>\n",
       "    </tr>\n",
       "    <tr>\n",
       "      <th>95</th>\n",
       "      <td>96</td>\n",
       "      <td>5.0</td>\n",
       "      <td>Electrodomesticos</td>\n",
       "      <td>Licuadora</td>\n",
       "      <td>3114.389282</td>\n",
       "      <td>3</td>\n",
       "    </tr>\n",
       "    <tr>\n",
       "      <th>96</th>\n",
       "      <td>97</td>\n",
       "      <td>1.0</td>\n",
       "      <td>Electrónica</td>\n",
       "      <td>Teléfono</td>\n",
       "      <td>399247.614114</td>\n",
       "      <td>1</td>\n",
       "    </tr>\n",
       "    <tr>\n",
       "      <th>97</th>\n",
       "      <td>98</td>\n",
       "      <td>5.0</td>\n",
       "      <td>Electrodomesticos</td>\n",
       "      <td>Batidora</td>\n",
       "      <td>15036.484930</td>\n",
       "      <td>5</td>\n",
       "    </tr>\n",
       "    <tr>\n",
       "      <th>98</th>\n",
       "      <td>99</td>\n",
       "      <td>2.0</td>\n",
       "      <td>Tecnologia</td>\n",
       "      <td>Audífonos</td>\n",
       "      <td>20787.594787</td>\n",
       "      <td>3</td>\n",
       "    </tr>\n",
       "    <tr>\n",
       "      <th>99</th>\n",
       "      <td>100</td>\n",
       "      <td>NaN</td>\n",
       "      <td>Electrodomesticos</td>\n",
       "      <td>Licuadora</td>\n",
       "      <td>26372.203859</td>\n",
       "      <td>5</td>\n",
       "    </tr>\n",
       "  </tbody>\n",
       "</table>\n",
       "<p>100 rows × 6 columns</p>\n",
       "</div>"
      ],
      "text/plain": [
       "    ID_Venta  ID_Cliente          Categoría         Producto         Precio  \\\n",
       "0          1         5.0              Hogar     Refrigerador  274569.889504   \n",
       "1          2         1.0        Electrónica         Teléfono  179133.823780   \n",
       "2          3         3.0              Hogar  Horno Eléctrico  376863.189049   \n",
       "3          4         2.0        Electrónica         Teléfono   60724.025252   \n",
       "4          5         4.0         Tecnologia         Teléfono   14657.517880   \n",
       "..       ...         ...                ...              ...            ...   \n",
       "95        96         5.0  Electrodomesticos        Licuadora    3114.389282   \n",
       "96        97         1.0        Electrónica         Teléfono  399247.614114   \n",
       "97        98         5.0  Electrodomesticos         Batidora   15036.484930   \n",
       "98        99         2.0         Tecnologia        Audífonos   20787.594787   \n",
       "99       100         NaN  Electrodomesticos        Licuadora   26372.203859   \n",
       "\n",
       "    Cantidad  \n",
       "0          3  \n",
       "1          1  \n",
       "2          5  \n",
       "3          3  \n",
       "4          2  \n",
       "..       ...  \n",
       "95         3  \n",
       "96         1  \n",
       "97         5  \n",
       "98         3  \n",
       "99         5  \n",
       "\n",
       "[100 rows x 6 columns]"
      ]
     },
     "execution_count": 3,
     "metadata": {},
     "output_type": "execute_result"
    }
   ],
   "source": [
    "df_ventas.head()\n",
    "df_ventas = ld.Limpiar_Datos(df_ventas,'ventas')"
   ]
  },
  {
   "cell_type": "code",
   "execution_count": 4,
   "id": "510fd465",
   "metadata": {},
   "outputs": [
    {
     "ename": "IntCastingNaNError",
     "evalue": "Cannot convert non-finite values (NA or inf) to integer",
     "output_type": "error",
     "traceback": [
      "\u001b[0;31m---------------------------------------------------------------------------\u001b[0m",
      "\u001b[0;31mIntCastingNaNError\u001b[0m                        Traceback (most recent call last)",
      "Cell \u001b[0;32mIn[4], line 1\u001b[0m\n\u001b[0;32m----> 1\u001b[0m \u001b[43mld\u001b[49m\u001b[38;5;241;43m.\u001b[39;49m\u001b[43mConversion_Datos\u001b[49m\u001b[43m(\u001b[49m\u001b[43mdf_ventas\u001b[49m\u001b[43m,\u001b[49m\u001b[38;5;124;43m'\u001b[39;49m\u001b[38;5;124;43mventas\u001b[39;49m\u001b[38;5;124;43m'\u001b[39;49m\u001b[43m)\u001b[49m\n",
      "File \u001b[0;32m~/Documents/Software_DS/ICIF1042_Taller2/functions/limpiar_datos.py:40\u001b[0m, in \u001b[0;36mConversion_Datos\u001b[0;34m(data, nombre)\u001b[0m\n\u001b[1;32m     38\u001b[0m \u001b[38;5;28;01mif\u001b[39;00m nombre \u001b[38;5;241m==\u001b[39m \u001b[38;5;124m'\u001b[39m\u001b[38;5;124mventas\u001b[39m\u001b[38;5;124m'\u001b[39m:\n\u001b[1;32m     39\u001b[0m     data[\u001b[38;5;124m'\u001b[39m\u001b[38;5;124mID_Venta\u001b[39m\u001b[38;5;124m'\u001b[39m]\u001b[38;5;241m=\u001b[39m\u001b[38;5;28mround\u001b[39m(data[\u001b[38;5;124m'\u001b[39m\u001b[38;5;124mID_Venta\u001b[39m\u001b[38;5;124m'\u001b[39m]\u001b[38;5;241m.\u001b[39mastype(\u001b[38;5;28mint\u001b[39m))\n\u001b[0;32m---> 40\u001b[0m     data[\u001b[38;5;124m'\u001b[39m\u001b[38;5;124mID_Cliente\u001b[39m\u001b[38;5;124m'\u001b[39m]\u001b[38;5;241m=\u001b[39m\u001b[38;5;28mround\u001b[39m(\u001b[43mdata\u001b[49m\u001b[43m[\u001b[49m\u001b[38;5;124;43m'\u001b[39;49m\u001b[38;5;124;43mID_Cliente\u001b[39;49m\u001b[38;5;124;43m'\u001b[39;49m\u001b[43m]\u001b[49m\u001b[38;5;241;43m.\u001b[39;49m\u001b[43mastype\u001b[49m\u001b[43m(\u001b[49m\u001b[38;5;28;43mint\u001b[39;49m\u001b[43m)\u001b[49m)\n\u001b[1;32m     41\u001b[0m     data[\u001b[38;5;124m'\u001b[39m\u001b[38;5;124mCategoría\u001b[39m\u001b[38;5;124m'\u001b[39m]\u001b[38;5;241m=\u001b[39mdata[\u001b[38;5;124m'\u001b[39m\u001b[38;5;124mCategoría\u001b[39m\u001b[38;5;124m'\u001b[39m]\u001b[38;5;241m.\u001b[39mto_string()\n\u001b[1;32m     42\u001b[0m     data[\u001b[38;5;124m'\u001b[39m\u001b[38;5;124mProducto\u001b[39m\u001b[38;5;124m'\u001b[39m]\u001b[38;5;241m=\u001b[39mdata[\u001b[38;5;124m'\u001b[39m\u001b[38;5;124mProducto\u001b[39m\u001b[38;5;124m'\u001b[39m]\u001b[38;5;241m.\u001b[39mto_string()\n",
      "File \u001b[0;32m~/Documents/Software_DS/ICIF1042_Taller2/taller_2/lib/python3.12/site-packages/pandas/core/generic.py:6643\u001b[0m, in \u001b[0;36mNDFrame.astype\u001b[0;34m(self, dtype, copy, errors)\u001b[0m\n\u001b[1;32m   6637\u001b[0m     results \u001b[38;5;241m=\u001b[39m [\n\u001b[1;32m   6638\u001b[0m         ser\u001b[38;5;241m.\u001b[39mastype(dtype, copy\u001b[38;5;241m=\u001b[39mcopy, errors\u001b[38;5;241m=\u001b[39merrors) \u001b[38;5;28;01mfor\u001b[39;00m _, ser \u001b[38;5;129;01min\u001b[39;00m \u001b[38;5;28mself\u001b[39m\u001b[38;5;241m.\u001b[39mitems()\n\u001b[1;32m   6639\u001b[0m     ]\n\u001b[1;32m   6641\u001b[0m \u001b[38;5;28;01melse\u001b[39;00m:\n\u001b[1;32m   6642\u001b[0m     \u001b[38;5;66;03m# else, only a single dtype is given\u001b[39;00m\n\u001b[0;32m-> 6643\u001b[0m     new_data \u001b[38;5;241m=\u001b[39m \u001b[38;5;28;43mself\u001b[39;49m\u001b[38;5;241;43m.\u001b[39;49m\u001b[43m_mgr\u001b[49m\u001b[38;5;241;43m.\u001b[39;49m\u001b[43mastype\u001b[49m\u001b[43m(\u001b[49m\u001b[43mdtype\u001b[49m\u001b[38;5;241;43m=\u001b[39;49m\u001b[43mdtype\u001b[49m\u001b[43m,\u001b[49m\u001b[43m \u001b[49m\u001b[43mcopy\u001b[49m\u001b[38;5;241;43m=\u001b[39;49m\u001b[43mcopy\u001b[49m\u001b[43m,\u001b[49m\u001b[43m \u001b[49m\u001b[43merrors\u001b[49m\u001b[38;5;241;43m=\u001b[39;49m\u001b[43merrors\u001b[49m\u001b[43m)\u001b[49m\n\u001b[1;32m   6644\u001b[0m     res \u001b[38;5;241m=\u001b[39m \u001b[38;5;28mself\u001b[39m\u001b[38;5;241m.\u001b[39m_constructor_from_mgr(new_data, axes\u001b[38;5;241m=\u001b[39mnew_data\u001b[38;5;241m.\u001b[39maxes)\n\u001b[1;32m   6645\u001b[0m     \u001b[38;5;28;01mreturn\u001b[39;00m res\u001b[38;5;241m.\u001b[39m__finalize__(\u001b[38;5;28mself\u001b[39m, method\u001b[38;5;241m=\u001b[39m\u001b[38;5;124m\"\u001b[39m\u001b[38;5;124mastype\u001b[39m\u001b[38;5;124m\"\u001b[39m)\n",
      "File \u001b[0;32m~/Documents/Software_DS/ICIF1042_Taller2/taller_2/lib/python3.12/site-packages/pandas/core/internals/managers.py:430\u001b[0m, in \u001b[0;36mBaseBlockManager.astype\u001b[0;34m(self, dtype, copy, errors)\u001b[0m\n\u001b[1;32m    427\u001b[0m \u001b[38;5;28;01melif\u001b[39;00m using_copy_on_write():\n\u001b[1;32m    428\u001b[0m     copy \u001b[38;5;241m=\u001b[39m \u001b[38;5;28;01mFalse\u001b[39;00m\n\u001b[0;32m--> 430\u001b[0m \u001b[38;5;28;01mreturn\u001b[39;00m \u001b[38;5;28;43mself\u001b[39;49m\u001b[38;5;241;43m.\u001b[39;49m\u001b[43mapply\u001b[49m\u001b[43m(\u001b[49m\n\u001b[1;32m    431\u001b[0m \u001b[43m    \u001b[49m\u001b[38;5;124;43m\"\u001b[39;49m\u001b[38;5;124;43mastype\u001b[39;49m\u001b[38;5;124;43m\"\u001b[39;49m\u001b[43m,\u001b[49m\n\u001b[1;32m    432\u001b[0m \u001b[43m    \u001b[49m\u001b[43mdtype\u001b[49m\u001b[38;5;241;43m=\u001b[39;49m\u001b[43mdtype\u001b[49m\u001b[43m,\u001b[49m\n\u001b[1;32m    433\u001b[0m \u001b[43m    \u001b[49m\u001b[43mcopy\u001b[49m\u001b[38;5;241;43m=\u001b[39;49m\u001b[43mcopy\u001b[49m\u001b[43m,\u001b[49m\n\u001b[1;32m    434\u001b[0m \u001b[43m    \u001b[49m\u001b[43merrors\u001b[49m\u001b[38;5;241;43m=\u001b[39;49m\u001b[43merrors\u001b[49m\u001b[43m,\u001b[49m\n\u001b[1;32m    435\u001b[0m \u001b[43m    \u001b[49m\u001b[43musing_cow\u001b[49m\u001b[38;5;241;43m=\u001b[39;49m\u001b[43musing_copy_on_write\u001b[49m\u001b[43m(\u001b[49m\u001b[43m)\u001b[49m\u001b[43m,\u001b[49m\n\u001b[1;32m    436\u001b[0m \u001b[43m\u001b[49m\u001b[43m)\u001b[49m\n",
      "File \u001b[0;32m~/Documents/Software_DS/ICIF1042_Taller2/taller_2/lib/python3.12/site-packages/pandas/core/internals/managers.py:363\u001b[0m, in \u001b[0;36mBaseBlockManager.apply\u001b[0;34m(self, f, align_keys, **kwargs)\u001b[0m\n\u001b[1;32m    361\u001b[0m         applied \u001b[38;5;241m=\u001b[39m b\u001b[38;5;241m.\u001b[39mapply(f, \u001b[38;5;241m*\u001b[39m\u001b[38;5;241m*\u001b[39mkwargs)\n\u001b[1;32m    362\u001b[0m     \u001b[38;5;28;01melse\u001b[39;00m:\n\u001b[0;32m--> 363\u001b[0m         applied \u001b[38;5;241m=\u001b[39m \u001b[38;5;28;43mgetattr\u001b[39;49m\u001b[43m(\u001b[49m\u001b[43mb\u001b[49m\u001b[43m,\u001b[49m\u001b[43m \u001b[49m\u001b[43mf\u001b[49m\u001b[43m)\u001b[49m\u001b[43m(\u001b[49m\u001b[38;5;241;43m*\u001b[39;49m\u001b[38;5;241;43m*\u001b[39;49m\u001b[43mkwargs\u001b[49m\u001b[43m)\u001b[49m\n\u001b[1;32m    364\u001b[0m     result_blocks \u001b[38;5;241m=\u001b[39m extend_blocks(applied, result_blocks)\n\u001b[1;32m    366\u001b[0m out \u001b[38;5;241m=\u001b[39m \u001b[38;5;28mtype\u001b[39m(\u001b[38;5;28mself\u001b[39m)\u001b[38;5;241m.\u001b[39mfrom_blocks(result_blocks, \u001b[38;5;28mself\u001b[39m\u001b[38;5;241m.\u001b[39maxes)\n",
      "File \u001b[0;32m~/Documents/Software_DS/ICIF1042_Taller2/taller_2/lib/python3.12/site-packages/pandas/core/internals/blocks.py:758\u001b[0m, in \u001b[0;36mBlock.astype\u001b[0;34m(self, dtype, copy, errors, using_cow, squeeze)\u001b[0m\n\u001b[1;32m    755\u001b[0m         \u001b[38;5;28;01mraise\u001b[39;00m \u001b[38;5;167;01mValueError\u001b[39;00m(\u001b[38;5;124m\"\u001b[39m\u001b[38;5;124mCan not squeeze with more than one column.\u001b[39m\u001b[38;5;124m\"\u001b[39m)\n\u001b[1;32m    756\u001b[0m     values \u001b[38;5;241m=\u001b[39m values[\u001b[38;5;241m0\u001b[39m, :]  \u001b[38;5;66;03m# type: ignore[call-overload]\u001b[39;00m\n\u001b[0;32m--> 758\u001b[0m new_values \u001b[38;5;241m=\u001b[39m \u001b[43mastype_array_safe\u001b[49m\u001b[43m(\u001b[49m\u001b[43mvalues\u001b[49m\u001b[43m,\u001b[49m\u001b[43m \u001b[49m\u001b[43mdtype\u001b[49m\u001b[43m,\u001b[49m\u001b[43m \u001b[49m\u001b[43mcopy\u001b[49m\u001b[38;5;241;43m=\u001b[39;49m\u001b[43mcopy\u001b[49m\u001b[43m,\u001b[49m\u001b[43m \u001b[49m\u001b[43merrors\u001b[49m\u001b[38;5;241;43m=\u001b[39;49m\u001b[43merrors\u001b[49m\u001b[43m)\u001b[49m\n\u001b[1;32m    760\u001b[0m new_values \u001b[38;5;241m=\u001b[39m maybe_coerce_values(new_values)\n\u001b[1;32m    762\u001b[0m refs \u001b[38;5;241m=\u001b[39m \u001b[38;5;28;01mNone\u001b[39;00m\n",
      "File \u001b[0;32m~/Documents/Software_DS/ICIF1042_Taller2/taller_2/lib/python3.12/site-packages/pandas/core/dtypes/astype.py:237\u001b[0m, in \u001b[0;36mastype_array_safe\u001b[0;34m(values, dtype, copy, errors)\u001b[0m\n\u001b[1;32m    234\u001b[0m     dtype \u001b[38;5;241m=\u001b[39m dtype\u001b[38;5;241m.\u001b[39mnumpy_dtype\n\u001b[1;32m    236\u001b[0m \u001b[38;5;28;01mtry\u001b[39;00m:\n\u001b[0;32m--> 237\u001b[0m     new_values \u001b[38;5;241m=\u001b[39m \u001b[43mastype_array\u001b[49m\u001b[43m(\u001b[49m\u001b[43mvalues\u001b[49m\u001b[43m,\u001b[49m\u001b[43m \u001b[49m\u001b[43mdtype\u001b[49m\u001b[43m,\u001b[49m\u001b[43m \u001b[49m\u001b[43mcopy\u001b[49m\u001b[38;5;241;43m=\u001b[39;49m\u001b[43mcopy\u001b[49m\u001b[43m)\u001b[49m\n\u001b[1;32m    238\u001b[0m \u001b[38;5;28;01mexcept\u001b[39;00m (\u001b[38;5;167;01mValueError\u001b[39;00m, \u001b[38;5;167;01mTypeError\u001b[39;00m):\n\u001b[1;32m    239\u001b[0m     \u001b[38;5;66;03m# e.g. _astype_nansafe can fail on object-dtype of strings\u001b[39;00m\n\u001b[1;32m    240\u001b[0m     \u001b[38;5;66;03m#  trying to convert to float\u001b[39;00m\n\u001b[1;32m    241\u001b[0m     \u001b[38;5;28;01mif\u001b[39;00m errors \u001b[38;5;241m==\u001b[39m \u001b[38;5;124m\"\u001b[39m\u001b[38;5;124mignore\u001b[39m\u001b[38;5;124m\"\u001b[39m:\n",
      "File \u001b[0;32m~/Documents/Software_DS/ICIF1042_Taller2/taller_2/lib/python3.12/site-packages/pandas/core/dtypes/astype.py:182\u001b[0m, in \u001b[0;36mastype_array\u001b[0;34m(values, dtype, copy)\u001b[0m\n\u001b[1;32m    179\u001b[0m     values \u001b[38;5;241m=\u001b[39m values\u001b[38;5;241m.\u001b[39mastype(dtype, copy\u001b[38;5;241m=\u001b[39mcopy)\n\u001b[1;32m    181\u001b[0m \u001b[38;5;28;01melse\u001b[39;00m:\n\u001b[0;32m--> 182\u001b[0m     values \u001b[38;5;241m=\u001b[39m \u001b[43m_astype_nansafe\u001b[49m\u001b[43m(\u001b[49m\u001b[43mvalues\u001b[49m\u001b[43m,\u001b[49m\u001b[43m \u001b[49m\u001b[43mdtype\u001b[49m\u001b[43m,\u001b[49m\u001b[43m \u001b[49m\u001b[43mcopy\u001b[49m\u001b[38;5;241;43m=\u001b[39;49m\u001b[43mcopy\u001b[49m\u001b[43m)\u001b[49m\n\u001b[1;32m    184\u001b[0m \u001b[38;5;66;03m# in pandas we don't store numpy str dtypes, so convert to object\u001b[39;00m\n\u001b[1;32m    185\u001b[0m \u001b[38;5;28;01mif\u001b[39;00m \u001b[38;5;28misinstance\u001b[39m(dtype, np\u001b[38;5;241m.\u001b[39mdtype) \u001b[38;5;129;01mand\u001b[39;00m \u001b[38;5;28missubclass\u001b[39m(values\u001b[38;5;241m.\u001b[39mdtype\u001b[38;5;241m.\u001b[39mtype, \u001b[38;5;28mstr\u001b[39m):\n",
      "File \u001b[0;32m~/Documents/Software_DS/ICIF1042_Taller2/taller_2/lib/python3.12/site-packages/pandas/core/dtypes/astype.py:101\u001b[0m, in \u001b[0;36m_astype_nansafe\u001b[0;34m(arr, dtype, copy, skipna)\u001b[0m\n\u001b[1;32m     96\u001b[0m     \u001b[38;5;28;01mreturn\u001b[39;00m lib\u001b[38;5;241m.\u001b[39mensure_string_array(\n\u001b[1;32m     97\u001b[0m         arr, skipna\u001b[38;5;241m=\u001b[39mskipna, convert_na_value\u001b[38;5;241m=\u001b[39m\u001b[38;5;28;01mFalse\u001b[39;00m\n\u001b[1;32m     98\u001b[0m     )\u001b[38;5;241m.\u001b[39mreshape(shape)\n\u001b[1;32m    100\u001b[0m \u001b[38;5;28;01melif\u001b[39;00m np\u001b[38;5;241m.\u001b[39missubdtype(arr\u001b[38;5;241m.\u001b[39mdtype, np\u001b[38;5;241m.\u001b[39mfloating) \u001b[38;5;129;01mand\u001b[39;00m dtype\u001b[38;5;241m.\u001b[39mkind \u001b[38;5;129;01min\u001b[39;00m \u001b[38;5;124m\"\u001b[39m\u001b[38;5;124miu\u001b[39m\u001b[38;5;124m\"\u001b[39m:\n\u001b[0;32m--> 101\u001b[0m     \u001b[38;5;28;01mreturn\u001b[39;00m \u001b[43m_astype_float_to_int_nansafe\u001b[49m\u001b[43m(\u001b[49m\u001b[43marr\u001b[49m\u001b[43m,\u001b[49m\u001b[43m \u001b[49m\u001b[43mdtype\u001b[49m\u001b[43m,\u001b[49m\u001b[43m \u001b[49m\u001b[43mcopy\u001b[49m\u001b[43m)\u001b[49m\n\u001b[1;32m    103\u001b[0m \u001b[38;5;28;01melif\u001b[39;00m arr\u001b[38;5;241m.\u001b[39mdtype \u001b[38;5;241m==\u001b[39m \u001b[38;5;28mobject\u001b[39m:\n\u001b[1;32m    104\u001b[0m     \u001b[38;5;66;03m# if we have a datetime/timedelta array of objects\u001b[39;00m\n\u001b[1;32m    105\u001b[0m     \u001b[38;5;66;03m# then coerce to datetime64[ns] and use DatetimeArray.astype\u001b[39;00m\n\u001b[1;32m    107\u001b[0m     \u001b[38;5;28;01mif\u001b[39;00m lib\u001b[38;5;241m.\u001b[39mis_np_dtype(dtype, \u001b[38;5;124m\"\u001b[39m\u001b[38;5;124mM\u001b[39m\u001b[38;5;124m\"\u001b[39m):\n",
      "File \u001b[0;32m~/Documents/Software_DS/ICIF1042_Taller2/taller_2/lib/python3.12/site-packages/pandas/core/dtypes/astype.py:145\u001b[0m, in \u001b[0;36m_astype_float_to_int_nansafe\u001b[0;34m(values, dtype, copy)\u001b[0m\n\u001b[1;32m    141\u001b[0m \u001b[38;5;250m\u001b[39m\u001b[38;5;124;03m\"\"\"\u001b[39;00m\n\u001b[1;32m    142\u001b[0m \u001b[38;5;124;03mastype with a check preventing converting NaN to an meaningless integer value.\u001b[39;00m\n\u001b[1;32m    143\u001b[0m \u001b[38;5;124;03m\"\"\"\u001b[39;00m\n\u001b[1;32m    144\u001b[0m \u001b[38;5;28;01mif\u001b[39;00m \u001b[38;5;129;01mnot\u001b[39;00m np\u001b[38;5;241m.\u001b[39misfinite(values)\u001b[38;5;241m.\u001b[39mall():\n\u001b[0;32m--> 145\u001b[0m     \u001b[38;5;28;01mraise\u001b[39;00m IntCastingNaNError(\n\u001b[1;32m    146\u001b[0m         \u001b[38;5;124m\"\u001b[39m\u001b[38;5;124mCannot convert non-finite values (NA or inf) to integer\u001b[39m\u001b[38;5;124m\"\u001b[39m\n\u001b[1;32m    147\u001b[0m     )\n\u001b[1;32m    148\u001b[0m \u001b[38;5;28;01mif\u001b[39;00m dtype\u001b[38;5;241m.\u001b[39mkind \u001b[38;5;241m==\u001b[39m \u001b[38;5;124m\"\u001b[39m\u001b[38;5;124mu\u001b[39m\u001b[38;5;124m\"\u001b[39m:\n\u001b[1;32m    149\u001b[0m     \u001b[38;5;66;03m# GH#45151\u001b[39;00m\n\u001b[1;32m    150\u001b[0m     \u001b[38;5;28;01mif\u001b[39;00m \u001b[38;5;129;01mnot\u001b[39;00m (values \u001b[38;5;241m>\u001b[39m\u001b[38;5;241m=\u001b[39m \u001b[38;5;241m0\u001b[39m)\u001b[38;5;241m.\u001b[39mall():\n",
      "\u001b[0;31mIntCastingNaNError\u001b[0m: Cannot convert non-finite values (NA or inf) to integer"
     ]
    }
   ],
   "source": [
    "ld.Conversion_Datos(df_ventas,'ventas')"
   ]
  },
  {
   "cell_type": "code",
   "execution_count": 6,
   "id": "d8c28162-9f40-4bf0-a0e6-5cecd415d2e9",
   "metadata": {},
   "outputs": [],
   "source": [
    "df_clientes = pd.read_csv(\"data/clientes.csv\")"
   ]
  },
  {
   "cell_type": "code",
   "execution_count": 31,
   "id": "dc113f9a-e83c-4e01-ad69-bd38e71b9146",
   "metadata": {},
   "outputs": [
    {
     "data": {
      "text/html": [
       "<div>\n",
       "<style scoped>\n",
       "    .dataframe tbody tr th:only-of-type {\n",
       "        vertical-align: middle;\n",
       "    }\n",
       "\n",
       "    .dataframe tbody tr th {\n",
       "        vertical-align: top;\n",
       "    }\n",
       "\n",
       "    .dataframe thead th {\n",
       "        text-align: right;\n",
       "    }\n",
       "</style>\n",
       "<table border=\"1\" class=\"dataframe\">\n",
       "  <thead>\n",
       "    <tr style=\"text-align: right;\">\n",
       "      <th></th>\n",
       "      <th>ID_Cliente</th>\n",
       "      <th>Nombre</th>\n",
       "      <th>Edad</th>\n",
       "      <th>Genero</th>\n",
       "      <th>Ubicacion</th>\n",
       "    </tr>\n",
       "  </thead>\n",
       "  <tbody>\n",
       "    <tr>\n",
       "      <th>0</th>\n",
       "      <td>1.0</td>\n",
       "      <td>Sophia Davis</td>\n",
       "      <td>34.0</td>\n",
       "      <td>Femenino</td>\n",
       "      <td>Centro</td>\n",
       "    </tr>\n",
       "    <tr>\n",
       "      <th>1</th>\n",
       "      <td>2.0</td>\n",
       "      <td>Daniel Davis</td>\n",
       "      <td>58.0</td>\n",
       "      <td>Masculino</td>\n",
       "      <td>Oeste</td>\n",
       "    </tr>\n",
       "    <tr>\n",
       "      <th>2</th>\n",
       "      <td>3.0</td>\n",
       "      <td>Maria Hall</td>\n",
       "      <td>47.0</td>\n",
       "      <td>Femenino</td>\n",
       "      <td>Sur</td>\n",
       "    </tr>\n",
       "    <tr>\n",
       "      <th>3</th>\n",
       "      <td>4.0</td>\n",
       "      <td>Evelyn Lee</td>\n",
       "      <td>60.0</td>\n",
       "      <td>Femenino</td>\n",
       "      <td>Sur</td>\n",
       "    </tr>\n",
       "    <tr>\n",
       "      <th>4</th>\n",
       "      <td>NaN</td>\n",
       "      <td>Jesus Hall</td>\n",
       "      <td>NaN</td>\n",
       "      <td>Masculino</td>\n",
       "      <td>Norte</td>\n",
       "    </tr>\n",
       "  </tbody>\n",
       "</table>\n",
       "</div>"
      ],
      "text/plain": [
       "   ID_Cliente        Nombre  Edad     Genero Ubicacion\n",
       "0         1.0  Sophia Davis  34.0   Femenino    Centro\n",
       "1         2.0  Daniel Davis  58.0  Masculino     Oeste\n",
       "2         3.0    Maria Hall  47.0   Femenino       Sur\n",
       "3         4.0    Evelyn Lee  60.0   Femenino       Sur\n",
       "4         NaN    Jesus Hall   NaN  Masculino     Norte"
      ]
     },
     "execution_count": 31,
     "metadata": {},
     "output_type": "execute_result"
    }
   ],
   "source": [
    "df_clientes.head()"
   ]
  },
  {
   "cell_type": "markdown",
   "id": "96c9f7f1",
   "metadata": {},
   "source": [
    "### Limpieza de Datos"
   ]
  },
  {
   "cell_type": "code",
   "execution_count": 10,
   "id": "740743a9-aa22-4b53-8ecf-b6df7cde304c",
   "metadata": {},
   "outputs": [
    {
     "name": "stdout",
     "output_type": "stream",
     "text": [
      "<class 'pandas.core.frame.DataFrame'>\n",
      "RangeIndex: 100 entries, 0 to 99\n",
      "Data columns (total 6 columns):\n",
      " #   Column      Non-Null Count  Dtype  \n",
      "---  ------      --------------  -----  \n",
      " 0   ID_Venta    99 non-null     float64\n",
      " 1   ID_Cliente  82 non-null     float64\n",
      " 2   Categoría   100 non-null    object \n",
      " 3   Producto    86 non-null     object \n",
      " 4   Precio      100 non-null    int64  \n",
      " 5   Cantidad    100 non-null    int64  \n",
      "dtypes: float64(2), int64(2), object(2)\n",
      "memory usage: 4.8+ KB\n"
     ]
    }
   ],
   "source": [
    "df_ventas.info() #Permite conocer los valores nulos del Dataframe"
   ]
  },
  {
   "cell_type": "code",
   "execution_count": 19,
   "id": "3d5d01d1-f11d-4eb6-95af-cfbcac6ae07c",
   "metadata": {},
   "outputs": [
    {
     "data": {
      "text/plain": [
       "ID_Venta       1\n",
       "ID_Cliente    18\n",
       "Categoría      0\n",
       "Producto      14\n",
       "Precio         0\n",
       "Cantidad       0\n",
       "dtype: int64"
      ]
     },
     "execution_count": 19,
     "metadata": {},
     "output_type": "execute_result"
    }
   ],
   "source": [
    "df_ventas.isnull().sum(axis=0) # Suma de cantidad de nulos"
   ]
  },
  {
   "cell_type": "code",
   "execution_count": 29,
   "id": "b9be98e7",
   "metadata": {},
   "outputs": [],
   "source": [
    "df_ventas.dropna(thresh=2, inplace=True) #Elimina si la fila tiene 2 valores nulos"
   ]
  },
  {
   "cell_type": "code",
   "execution_count": 25,
   "id": "c23ea9ec",
   "metadata": {},
   "outputs": [
    {
     "name": "stderr",
     "output_type": "stream",
     "text": [
      "Matplotlib is building the font cache; this may take a moment.\n"
     ]
    },
    {
     "data": {
      "text/plain": [
       "array([[<Axes: title={'center': 'ID_Venta'}>,\n",
       "        <Axes: title={'center': 'ID_Cliente'}>],\n",
       "       [<Axes: title={'center': 'Precio'}>,\n",
       "        <Axes: title={'center': 'Cantidad'}>]], dtype=object)"
      ]
     },
     "execution_count": 25,
     "metadata": {},
     "output_type": "execute_result"
    },
    {
     "data": {
      "image/png": "[encoded data removed]",
      "text/plain": [
       "<Figure size 640x480 with 4 Axes>"
      ]
     },
     "metadata": {},
     "output_type": "display_data"
    }
   ],
   "source": [
    "df_ventas.hist()"
   ]
  },
  {
   "cell_type": "markdown",
   "id": "237008b7",
   "metadata": {},
   "source": [
    "#### Clientes:"
   ]
  },
  {
   "cell_type": "code",
   "execution_count": 18,
   "id": "c3ad2263-da6e-4bc9-824b-95870fdf7325",
   "metadata": {},
   "outputs": [
    {
     "name": "stdout",
     "output_type": "stream",
     "text": [
      "<class 'pandas.core.frame.DataFrame'>\n",
      "RangeIndex: 5 entries, 0 to 4\n",
      "Data columns (total 5 columns):\n",
      " #   Column      Non-Null Count  Dtype  \n",
      "---  ------      --------------  -----  \n",
      " 0   ID_Cliente  4 non-null      float64\n",
      " 1   Nombre      5 non-null      object \n",
      " 2   Edad        4 non-null      float64\n",
      " 3   Genero      5 non-null      object \n",
      " 4   Ubicacion   5 non-null      object \n",
      "dtypes: float64(2), object(3)\n",
      "memory usage: 332.0+ bytes\n"
     ]
    }
   ],
   "source": [
    "df_clientes.info() #Permite conocer los valores nulos del Dataframe"
   ]
  },
  {
   "cell_type": "code",
   "execution_count": 14,
   "id": "84e7ba02",
   "metadata": {},
   "outputs": [
    {
     "data": {
      "text/plain": [
       "ID_Cliente    1\n",
       "Nombre        0\n",
       "Edad          1\n",
       "Genero        0\n",
       "Ubicacion     0\n",
       "dtype: int64"
      ]
     },
     "execution_count": 14,
     "metadata": {},
     "output_type": "execute_result"
    }
   ],
   "source": [
    "df_clientes.isnull().sum() # Suma de cantidad de nulos"
   ]
  },
  {
   "cell_type": "code",
   "execution_count": 22,
   "id": "e87bf837-4970-40a9-b46a-d46b42cb5fa3",
   "metadata": {},
   "outputs": [
    {
     "data": {
      "text/plain": [
       "ID_Cliente    1\n",
       "Nombre        0\n",
       "Edad          1\n",
       "Genero        0\n",
       "Ubicacion     0\n",
       "dtype: int64"
      ]
     },
     "execution_count": 22,
     "metadata": {},
     "output_type": "execute_result"
    }
   ],
   "source": [
    "df_clientes.isnull().sum(axis=0) "
   ]
  },
  {
   "cell_type": "code",
   "execution_count": 23,
   "id": "6ce4bfd0",
   "metadata": {},
   "outputs": [],
   "source": [
    "df_clientes.dropna(thresh=2, inplace=True)#Elimina si la fila tiene 2 valores nulos"
   ]
  },
  {
   "cell_type": "code",
   "execution_count": 26,
   "id": "7c8d0c8d",
   "metadata": {},
   "outputs": [
    {
     "data": {
      "text/plain": [
       "array([[<Axes: title={'center': 'ID_Cliente'}>,\n",
       "        <Axes: title={'center': 'Edad'}>]], dtype=object)"
      ]
     },
     "execution_count": 26,
     "metadata": {},
     "output_type": "execute_result"
    },
    {
     "data": {
      "image/png": "[encoded data removed]",
      "text/plain": [
       "<Figure size 640x480 with 2 Axes>"
      ]
     },
     "metadata": {},
     "output_type": "display_data"
    }
   ],
   "source": [
    "df_clientes.hist()"
   ]
  },
  {
   "cell_type": "markdown",
   "id": "c3d6df40-d69f-4075-9217-994dab52adc3",
   "metadata": {},
   "source": [
    "### Exploración "
   ]
  },
  {
   "cell_type": "markdown",
   "id": "83032025-753c-45e4-85a4-dffc6b32560a",
   "metadata": {},
   "source": [
    "#### Ventas:"
   ]
  },
  {
   "cell_type": "code",
   "execution_count": 8,
   "id": "b41f1673-585c-4395-9768-7a77b9ce9ca3",
   "metadata": {},
   "outputs": [
    {
     "data": {
      "text/plain": [
       "Index(['ID_Venta', 'ID_Cliente', 'Categoría', 'Producto', 'Precio',\n",
       "       'Cantidad'],\n",
       "      dtype='object')"
      ]
     },
     "execution_count": 8,
     "metadata": {},
     "output_type": "execute_result"
    }
   ],
   "source": [
    "df_ventas.columns #Permite conocer las columnas del Dataframe"
   ]
  },
  {
   "cell_type": "code",
   "execution_count": 9,
   "id": "aec7e602-79dd-41b1-af22-459e264154f5",
   "metadata": {},
   "outputs": [
    {
     "data": {
      "text/plain": [
       "(100, 6)"
      ]
     },
     "execution_count": 9,
     "metadata": {},
     "output_type": "execute_result"
    }
   ],
   "source": [
    "df_ventas.shape #Permite conocer el tamaño de los datos del Dataframe"
   ]
  },
  {
   "cell_type": "code",
   "execution_count": 11,
   "id": "e4de86d9-59fe-476d-9d26-be04b4319412",
   "metadata": {},
   "outputs": [
    {
     "data": {
      "text/html": [
       "<div>\n",
       "<style scoped>\n",
       "    .dataframe tbody tr th:only-of-type {\n",
       "        vertical-align: middle;\n",
       "    }\n",
       "\n",
       "    .dataframe tbody tr th {\n",
       "        vertical-align: top;\n",
       "    }\n",
       "\n",
       "    .dataframe thead th {\n",
       "        text-align: right;\n",
       "    }\n",
       "</style>\n",
       "<table border=\"1\" class=\"dataframe\">\n",
       "  <thead>\n",
       "    <tr style=\"text-align: right;\">\n",
       "      <th></th>\n",
       "      <th>ID_Venta</th>\n",
       "      <th>ID_Cliente</th>\n",
       "      <th>Precio</th>\n",
       "      <th>Cantidad</th>\n",
       "    </tr>\n",
       "  </thead>\n",
       "  <tbody>\n",
       "    <tr>\n",
       "      <th>count</th>\n",
       "      <td>99.000000</td>\n",
       "      <td>82.000000</td>\n",
       "      <td>100.000000</td>\n",
       "      <td>100.000000</td>\n",
       "    </tr>\n",
       "    <tr>\n",
       "      <th>mean</th>\n",
       "      <td>50.000000</td>\n",
       "      <td>2.695122</td>\n",
       "      <td>149029.000000</td>\n",
       "      <td>2.970000</td>\n",
       "    </tr>\n",
       "    <tr>\n",
       "      <th>std</th>\n",
       "      <td>28.722813</td>\n",
       "      <td>1.140598</td>\n",
       "      <td>173125.725499</td>\n",
       "      <td>1.424568</td>\n",
       "    </tr>\n",
       "    <tr>\n",
       "      <th>min</th>\n",
       "      <td>1.000000</td>\n",
       "      <td>1.000000</td>\n",
       "      <td>1000.000000</td>\n",
       "      <td>1.000000</td>\n",
       "    </tr>\n",
       "    <tr>\n",
       "      <th>25%</th>\n",
       "      <td>25.500000</td>\n",
       "      <td>2.000000</td>\n",
       "      <td>12990.000000</td>\n",
       "      <td>2.000000</td>\n",
       "    </tr>\n",
       "    <tr>\n",
       "      <th>50%</th>\n",
       "      <td>50.000000</td>\n",
       "      <td>3.000000</td>\n",
       "      <td>129990.000000</td>\n",
       "      <td>3.000000</td>\n",
       "    </tr>\n",
       "    <tr>\n",
       "      <th>75%</th>\n",
       "      <td>74.500000</td>\n",
       "      <td>4.000000</td>\n",
       "      <td>189990.000000</td>\n",
       "      <td>4.000000</td>\n",
       "    </tr>\n",
       "    <tr>\n",
       "      <th>max</th>\n",
       "      <td>99.000000</td>\n",
       "      <td>4.000000</td>\n",
       "      <td>699990.000000</td>\n",
       "      <td>5.000000</td>\n",
       "    </tr>\n",
       "  </tbody>\n",
       "</table>\n",
       "</div>"
      ],
      "text/plain": [
       "        ID_Venta  ID_Cliente         Precio    Cantidad\n",
       "count  99.000000   82.000000     100.000000  100.000000\n",
       "mean   50.000000    2.695122  149029.000000    2.970000\n",
       "std    28.722813    1.140598  173125.725499    1.424568\n",
       "min     1.000000    1.000000    1000.000000    1.000000\n",
       "25%    25.500000    2.000000   12990.000000    2.000000\n",
       "50%    50.000000    3.000000  129990.000000    3.000000\n",
       "75%    74.500000    4.000000  189990.000000    4.000000\n",
       "max    99.000000    4.000000  699990.000000    5.000000"
      ]
     },
     "execution_count": 11,
     "metadata": {},
     "output_type": "execute_result"
    }
   ],
   "source": [
    "df_ventas.describe() #Ayuda a saber como se distribuyen las variables numéricas del Dataframe"
   ]
  },
  {
   "cell_type": "code",
   "execution_count": 12,
   "id": "379fb4d3-bf0c-41d6-ab14-ca0e254eb5c9",
   "metadata": {},
   "outputs": [
    {
     "data": {
      "text/html": [
       "<div>\n",
       "<style scoped>\n",
       "    .dataframe tbody tr th:only-of-type {\n",
       "        vertical-align: middle;\n",
       "    }\n",
       "\n",
       "    .dataframe tbody tr th {\n",
       "        vertical-align: top;\n",
       "    }\n",
       "\n",
       "    .dataframe thead th {\n",
       "        text-align: right;\n",
       "    }\n",
       "</style>\n",
       "<table border=\"1\" class=\"dataframe\">\n",
       "  <thead>\n",
       "    <tr style=\"text-align: right;\">\n",
       "      <th></th>\n",
       "      <th>Categoría</th>\n",
       "      <th>Producto</th>\n",
       "    </tr>\n",
       "  </thead>\n",
       "  <tbody>\n",
       "    <tr>\n",
       "      <th>count</th>\n",
       "      <td>100</td>\n",
       "      <td>86</td>\n",
       "    </tr>\n",
       "    <tr>\n",
       "      <th>unique</th>\n",
       "      <td>2</td>\n",
       "      <td>15</td>\n",
       "    </tr>\n",
       "    <tr>\n",
       "      <th>top</th>\n",
       "      <td>Electrónica</td>\n",
       "      <td>Estufa Electrica</td>\n",
       "    </tr>\n",
       "    <tr>\n",
       "      <th>freq</th>\n",
       "      <td>52</td>\n",
       "      <td>12</td>\n",
       "    </tr>\n",
       "  </tbody>\n",
       "</table>\n",
       "</div>"
      ],
      "text/plain": [
       "          Categoría          Producto\n",
       "count           100                86\n",
       "unique            2                15\n",
       "top     Electrónica  Estufa Electrica\n",
       "freq             52                12"
      ]
     },
     "execution_count": 12,
     "metadata": {},
     "output_type": "execute_result"
    }
   ],
   "source": [
    "df_ventas.describe(include=['O']) #Ayuda a saber como se comportan las variables categóricas del Dataframe"
   ]
  },
  {
   "cell_type": "markdown",
   "id": "6611e4e7-6141-4b9e-a750-3af984e9c37d",
   "metadata": {},
   "source": [
    "#### Clientes:"
   ]
  },
  {
   "cell_type": "code",
   "execution_count": 16,
   "id": "2e9526f0-a94f-4ded-89d5-89477d42ae3e",
   "metadata": {},
   "outputs": [
    {
     "data": {
      "text/plain": [
       "Index(['ID_Cliente', 'Nombre', 'Edad', 'Genero', 'Ubicacion'], dtype='object')"
      ]
     },
     "execution_count": 16,
     "metadata": {},
     "output_type": "execute_result"
    }
   ],
   "source": [
    "df_clientes.columns #Permite conocer las columnas del Dataframe"
   ]
  },
  {
   "cell_type": "code",
   "execution_count": 17,
   "id": "ab97e3a9-9f1e-40c1-bfab-9aa44fcae43e",
   "metadata": {},
   "outputs": [
    {
     "data": {
      "text/plain": [
       "(5, 5)"
      ]
     },
     "execution_count": 17,
     "metadata": {},
     "output_type": "execute_result"
    }
   ],
   "source": [
    "df_clientes.shape #Permite conocer el tamaño de los datos del Dataframe"
   ]
  },
  {
   "cell_type": "code",
   "execution_count": 19,
   "id": "b049a88b-fac6-4096-906e-162df3a544ac",
   "metadata": {},
   "outputs": [
    {
     "data": {
      "text/html": [
       "<div>\n",
       "<style scoped>\n",
       "    .dataframe tbody tr th:only-of-type {\n",
       "        vertical-align: middle;\n",
       "    }\n",
       "\n",
       "    .dataframe tbody tr th {\n",
       "        vertical-align: top;\n",
       "    }\n",
       "\n",
       "    .dataframe thead th {\n",
       "        text-align: right;\n",
       "    }\n",
       "</style>\n",
       "<table border=\"1\" class=\"dataframe\">\n",
       "  <thead>\n",
       "    <tr style=\"text-align: right;\">\n",
       "      <th></th>\n",
       "      <th>ID_Cliente</th>\n",
       "      <th>Edad</th>\n",
       "    </tr>\n",
       "  </thead>\n",
       "  <tbody>\n",
       "    <tr>\n",
       "      <th>count</th>\n",
       "      <td>4.000000</td>\n",
       "      <td>4.000000</td>\n",
       "    </tr>\n",
       "    <tr>\n",
       "      <th>mean</th>\n",
       "      <td>2.500000</td>\n",
       "      <td>46.250000</td>\n",
       "    </tr>\n",
       "    <tr>\n",
       "      <th>std</th>\n",
       "      <td>1.290994</td>\n",
       "      <td>10.275375</td>\n",
       "    </tr>\n",
       "    <tr>\n",
       "      <th>min</th>\n",
       "      <td>1.000000</td>\n",
       "      <td>34.000000</td>\n",
       "    </tr>\n",
       "    <tr>\n",
       "      <th>25%</th>\n",
       "      <td>1.750000</td>\n",
       "      <td>40.000000</td>\n",
       "    </tr>\n",
       "    <tr>\n",
       "      <th>50%</th>\n",
       "      <td>2.500000</td>\n",
       "      <td>47.000000</td>\n",
       "    </tr>\n",
       "    <tr>\n",
       "      <th>75%</th>\n",
       "      <td>3.250000</td>\n",
       "      <td>53.250000</td>\n",
       "    </tr>\n",
       "    <tr>\n",
       "      <th>max</th>\n",
       "      <td>4.000000</td>\n",
       "      <td>57.000000</td>\n",
       "    </tr>\n",
       "  </tbody>\n",
       "</table>\n",
       "</div>"
      ],
      "text/plain": [
       "       ID_Cliente       Edad\n",
       "count    4.000000   4.000000\n",
       "mean     2.500000  46.250000\n",
       "std      1.290994  10.275375\n",
       "min      1.000000  34.000000\n",
       "25%      1.750000  40.000000\n",
       "50%      2.500000  47.000000\n",
       "75%      3.250000  53.250000\n",
       "max      4.000000  57.000000"
      ]
     },
     "execution_count": 19,
     "metadata": {},
     "output_type": "execute_result"
    }
   ],
   "source": [
    "df_clientes.describe() #Ayuda a saber como se distribuyen las variables numéricas del Dataframe"
   ]
  },
  {
   "cell_type": "code",
   "execution_count": 20,
   "id": "ba442d03-b054-4b74-9312-2f3a4e92ce4e",
   "metadata": {},
   "outputs": [
    {
     "data": {
      "text/html": [
       "<div>\n",
       "<style scoped>\n",
       "    .dataframe tbody tr th:only-of-type {\n",
       "        vertical-align: middle;\n",
       "    }\n",
       "\n",
       "    .dataframe tbody tr th {\n",
       "        vertical-align: top;\n",
       "    }\n",
       "\n",
       "    .dataframe thead th {\n",
       "        text-align: right;\n",
       "    }\n",
       "</style>\n",
       "<table border=\"1\" class=\"dataframe\">\n",
       "  <thead>\n",
       "    <tr style=\"text-align: right;\">\n",
       "      <th></th>\n",
       "      <th>Nombre</th>\n",
       "      <th>Genero</th>\n",
       "      <th>Ubicacion</th>\n",
       "    </tr>\n",
       "  </thead>\n",
       "  <tbody>\n",
       "    <tr>\n",
       "      <th>count</th>\n",
       "      <td>5</td>\n",
       "      <td>5</td>\n",
       "      <td>5</td>\n",
       "    </tr>\n",
       "    <tr>\n",
       "      <th>unique</th>\n",
       "      <td>5</td>\n",
       "      <td>2</td>\n",
       "      <td>2</td>\n",
       "    </tr>\n",
       "    <tr>\n",
       "      <th>top</th>\n",
       "      <td>Ava Lee</td>\n",
       "      <td>Femenino</td>\n",
       "      <td>Este</td>\n",
       "    </tr>\n",
       "    <tr>\n",
       "      <th>freq</th>\n",
       "      <td>1</td>\n",
       "      <td>4</td>\n",
       "      <td>3</td>\n",
       "    </tr>\n",
       "  </tbody>\n",
       "</table>\n",
       "</div>"
      ],
      "text/plain": [
       "         Nombre    Genero Ubicacion\n",
       "count         5         5         5\n",
       "unique        5         2         2\n",
       "top     Ava Lee  Femenino      Este\n",
       "freq          1         4         3"
      ]
     },
     "execution_count": 20,
     "metadata": {},
     "output_type": "execute_result"
    }
   ],
   "source": [
    "df_clientes.describe(include=['O']) #Ayuda a saber como se comportan las variables categóricas del Dataframe"
   ]
  },
  {
   "cell_type": "markdown",
   "id": "03ad1ea3",
   "metadata": {},
   "source": []
  },
  {
   "cell_type": "code",
   "execution_count": null,
   "id": "921c7bc4-e1ec-4a56-9594-3939a7e48a66",
   "metadata": {},
   "outputs": [],
   "source": []
  },
  {
   "cell_type": "code",
   "execution_count": null,
   "id": "28ff5dae-5987-4fea-9f26-fc95007f9678",
   "metadata": {},
   "outputs": [],
   "source": []
  },
  {
   "cell_type": "code",
   "execution_count": null,
   "id": "1b12f3d2-b02a-4ed7-8148-ee9596dacd76",
   "metadata": {},
   "outputs": [],
   "source": []
  },
  {
   "cell_type": "code",
   "execution_count": null,
   "id": "ab0929f2-d18c-46a5-b66d-30340c0913b0",
   "metadata": {},
   "outputs": [],
   "source": []
  },
  {
   "cell_type": "markdown",
   "id": "fff187fe-ce61-4619-9466-6ffb9283daf8",
   "metadata": {},
   "source": [
    "# Analisis de Datos"
   ]
  },
  {
   "cell_type": "code",
   "execution_count": null,
   "id": "67bb5fd9-ec7a-4df4-8668-1875e4038204",
   "metadata": {},
   "outputs": [],
   "source": []
  }
 ],
 "metadata": {
  "kernelspec": {
   "display_name": "Python 3 (ipykernel)",
   "language": "python",
   "name": "python3"
  },
  "language_info": {
   "codemirror_mode": {
    "name": "ipython",
    "version": 3
   },
   "file_extension": ".py",
   "mimetype": "text/x-python",
   "name": "python",
   "nbconvert_exporter": "python",
   "pygments_lexer": "ipython3",
   "version": "3.12.3"
  }
 },
 "nbformat": 4,
 "nbformat_minor": 5
}
