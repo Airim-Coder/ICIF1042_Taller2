{
 "cells": [
  {
   "cell_type": "markdown",
   "id": "4d1fb8a3-40a7-412a-a288-ec674a46ab22",
   "metadata": {},
   "source": [
    "# Generar archivos CSV para Ventas y Clientes\n",
    "\n",
    "### Contenido:\n",
    "Modulo datos.py creado para generar csv bajo los siguientes lineamientos:\n",
    "\n",
    "1. Generar dos archivos CSV llamados \"ventas.csv\" y \"clientes.csv\" que contengan los datos de ventas y clientes, respectivamente. \n",
    "2. Los datos deben ser generados aleatoriamente utilizando funciones de probabilidad (indique en su informe que distribución uso: uniforme, normal u otra).\n",
    "3. Los valores nulos deben representarse con la palabra \"NULL\". En el archivo \"ventas.csv\"\n",
    "    - La columna \"Producto\" puede contener hasta un 10% de valores nulos. \n",
    "    - En el archivo \"clientes.csv\", las columnas \"Nombre\" y \"Edad\" pueden contener hasta un 5% de valores nulos cada una."
   ]
  },
  {
   "cell_type": "code",
   "execution_count": 1,
   "id": "3576e249-9dde-4bfc-81d8-fd45d4e69f74",
   "metadata": {
    "scrolled": true
   },
   "outputs": [
    {
     "ename": "Exception",
     "evalue": "Ha surgido un error en la generacion de clientes",
     "output_type": "error",
     "traceback": [
      "\u001b[0;31m---------------------------------------------------------------------------\u001b[0m",
      "\u001b[0;31mKeyError\u001b[0m                                  Traceback (most recent call last)",
      "File \u001b[0;32m~/Documents/Software_DS/ICIF1042_Taller2/datos.py:29\u001b[0m, in \u001b[0;36mDataGen_Clientes\u001b[0;34m(num_clientes)\u001b[0m\n\u001b[1;32m     28\u001b[0m \u001b[38;5;28;01mfor\u001b[39;00m _ \u001b[38;5;129;01min\u001b[39;00m \u001b[38;5;28mrange\u001b[39m(num_clientes):\n\u001b[0;32m---> 29\u001b[0m     nombres \u001b[38;5;241m=\u001b[39m \u001b[43m_clientGen\u001b[49m\u001b[43m(\u001b[49m\u001b[43mcliente_genero\u001b[49m\u001b[43m)\u001b[49m\u001b[38;5;66;03m#_nameListGen(num_clientes)\u001b[39;00m\n\u001b[1;32m     30\u001b[0m     df_clientes[\u001b[38;5;124m'\u001b[39m\u001b[38;5;124mID_Cliente\u001b[39m\u001b[38;5;124m'\u001b[39m]\u001b[38;5;241m=\u001b[39m \u001b[38;5;28mrange\u001b[39m(\u001b[38;5;241m1\u001b[39m, \u001b[38;5;28mlen\u001b[39m(df_clientes) \u001b[38;5;241m+\u001b[39m \u001b[38;5;241m1\u001b[39m)\n",
      "File \u001b[0;32m~/Documents/Software_DS/ICIF1042_Taller2/datos.py:90\u001b[0m, in \u001b[0;36m_clientGen\u001b[0;34m(clientes_genero)\u001b[0m\n\u001b[1;32m     89\u001b[0m     nombre \u001b[38;5;241m=\u001b[39m random\u001b[38;5;241m.\u001b[39mchoice(nombre)\n\u001b[0;32m---> 90\u001b[0m     genero \u001b[38;5;241m=\u001b[39m \u001b[38;5;28mlist\u001b[39m(\u001b[43mclientes_genero\u001b[49m\u001b[43m[\u001b[49m\u001b[43mnombre\u001b[49m\u001b[43m]\u001b[49m[\u001b[38;5;124m'\u001b[39m\u001b[38;5;124mGenero\u001b[39m\u001b[38;5;124m'\u001b[39m])\n\u001b[1;32m     92\u001b[0m \u001b[38;5;28;01mif\u001b[39;00m random\u001b[38;5;241m.\u001b[39mrandom() \u001b[38;5;241m<\u001b[39m \u001b[38;5;241m0.5\u001b[39m:\n",
      "\u001b[0;31mKeyError\u001b[0m: 'l'",
      "\nDuring handling of the above exception, another exception occurred:\n",
      "\u001b[0;31mException\u001b[0m                                 Traceback (most recent call last)",
      "Cell \u001b[0;32mIn[1], line 3\u001b[0m\n\u001b[1;32m      1\u001b[0m \u001b[38;5;28;01mimport\u001b[39;00m \u001b[38;5;21;01mdatos\u001b[39;00m\n\u001b[0;32m----> 3\u001b[0m \u001b[43mdatos\u001b[49m\u001b[38;5;241;43m.\u001b[39;49m\u001b[43mSimulador_Ventas\u001b[49m\u001b[43m(\u001b[49m\u001b[43m)\u001b[49m\n",
      "File \u001b[0;32m~/Documents/Software_DS/ICIF1042_Taller2/datos.py:18\u001b[0m, in \u001b[0;36mSimulador_Ventas\u001b[0;34m()\u001b[0m\n\u001b[1;32m     17\u001b[0m \u001b[38;5;28;01mdef\u001b[39;00m \u001b[38;5;21mSimulador_Ventas\u001b[39m():\n\u001b[0;32m---> 18\u001b[0m     clientes \u001b[38;5;241m=\u001b[39m \u001b[43mDataGen_Clientes\u001b[49m\u001b[43m(\u001b[49m\u001b[38;5;241;43m120\u001b[39;49m\u001b[43m)\u001b[49m\n\u001b[1;32m     19\u001b[0m     FileWrite(\u001b[38;5;124m'\u001b[39m\u001b[38;5;124mclientes.csv\u001b[39m\u001b[38;5;124m'\u001b[39m, clientes)\n\u001b[1;32m     21\u001b[0m     ventas \u001b[38;5;241m=\u001b[39m DataGen_Ventas(\u001b[38;5;241m500\u001b[39m, clientes)\n",
      "File \u001b[0;32m~/Documents/Software_DS/ICIF1042_Taller2/datos.py:34\u001b[0m, in \u001b[0;36mDataGen_Clientes\u001b[0;34m(num_clientes)\u001b[0m\n\u001b[1;32m     32\u001b[0m     \u001b[38;5;28;01mreturn\u001b[39;00m df_clientes\n\u001b[1;32m     33\u001b[0m \u001b[38;5;28;01mexcept\u001b[39;00m:\n\u001b[0;32m---> 34\u001b[0m     \u001b[38;5;28;01mraise\u001b[39;00m \u001b[38;5;167;01mException\u001b[39;00m(\u001b[38;5;124m\"\u001b[39m\u001b[38;5;124mHa surgido un error en la generacion de clientes\u001b[39m\u001b[38;5;124m\"\u001b[39m)\n",
      "\u001b[0;31mException\u001b[0m: Ha surgido un error en la generacion de clientes"
     ]
    }
   ],
   "source": [
    "import datos\n",
    "\n",
    "datos.Simulador_Ventas()"
   ]
  },
  {
   "cell_type": "markdown",
   "id": "d12d968b-4b35-4aff-a93a-e3d4a66c27c9",
   "metadata": {},
   "source": [
    "# Limpieza de Datos"
   ]
  },
  {
   "cell_type": "code",
   "execution_count": null,
   "id": "ae2bc98e-7556-4f24-b4d2-31be70c727e3",
   "metadata": {},
   "outputs": [],
   "source": [
    "import pandas as pd\n",
    "import numpy as np\n",
    "\n",
    "df_ventas = pd.read_csv(\"ventas.csv\")\n",
    "df_clientes = pd.read_csv(\"clientes.csv\")"
   ]
  },
  {
   "cell_type": "markdown",
   "id": "fff187fe-ce61-4619-9466-6ffb9283daf8",
   "metadata": {},
   "source": [
    "# Analisis de Datos"
   ]
  },
  {
   "cell_type": "code",
   "execution_count": null,
   "id": "c3ad2263-da6e-4bc9-824b-95870fdf7325",
   "metadata": {},
   "outputs": [],
   "source": []
  }
 ],
 "metadata": {
  "kernelspec": {
   "display_name": "Python 3 (ipykernel)",
   "language": "python",
   "name": "python3"
  },
  "language_info": {
   "codemirror_mode": {
    "name": "ipython",
    "version": 3
   },
   "file_extension": ".py",
   "mimetype": "text/x-python",
   "name": "python",
   "nbconvert_exporter": "python",
   "pygments_lexer": "ipython3",
   "version": "3.12.3"
  }
 },
 "nbformat": 4,
 "nbformat_minor": 5
}
