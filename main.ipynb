{
 "cells": [
  {
   "cell_type": "markdown",
   "id": "d35d7a05-58e0-4513-9679-e7a205b83dc5",
   "metadata": {},
   "source": [
    "### Importacion de Librerias y Modulos"
   ]
  },
  {
   "cell_type": "code",
   "execution_count": 27,
   "id": "f0c4217c-06c8-4239-af68-8ae3c302ce28",
   "metadata": {},
   "outputs": [],
   "source": [
    "from functions.datos import Simulador_Ventas\n",
    "import functions.limpiar_datos as ld\n",
    "import functions.visualizacion as vs\n",
    "import matplotlib.pyplot as plt\n",
    "import pandas as pd\n",
    "import numpy as np\n",
    "import seaborn as sns"
   ]
  },
  {
   "cell_type": "markdown",
   "id": "4d1fb8a3-40a7-412a-a288-ec674a46ab22",
   "metadata": {},
   "source": [
    "# Generar archivos CSV para Ventas y Clientes\n",
    "\n",
    "### Contenido:\n",
    "Modulo datos.py creado para generar csv bajo los siguientes lineamientos:\n",
    "\n",
    "1. Generar dos archivos CSV llamados \"ventas.csv\" y \"clientes.csv\" que contengan los datos de ventas y clientes, respectivamente. \n",
    "2. Los datos deben ser generados aleatoriamente utilizando funciones de probabilidad (indique en su informe que distribución uso: uniforme, normal u otra).\n",
    "3. Los valores nulos deben representarse con la palabra \"NULL\". En el archivo \"ventas.csv\"\n",
    "    - La columna \"Producto\" puede contener hasta un 10% de valores nulos. \n",
    "    - En el archivo \"clientes.csv\", las columnas \"Nombre\" y \"Edad\" pueden contener hasta un 5% de valores nulos cada una."
   ]
  },
  {
   "cell_type": "markdown",
   "id": "931e26d1",
   "metadata": {},
   "source": [
    "Simula una Venta indicando:\n",
    "- num_venta = ¿Cuántas ventas te gustaria simular?\n",
    "- num_clientes ¿Cuántos clientes contemplará?"
   ]
  },
  {
   "cell_type": "code",
   "execution_count": null,
   "id": "3576e249-9dde-4bfc-81d8-fd45d4e69f74",
   "metadata": {
    "scrolled": true
   },
   "outputs": [],
   "source": [
    "num_ventas = 100\n",
    "num_clientes = 50\n",
    "Simulador_Ventas(num_ventas,num_clientes)"
   ]
  },
  {
   "cell_type": "markdown",
   "id": "d12d968b-4b35-4aff-a93a-e3d4a66c27c9",
   "metadata": {},
   "source": [
    "# Limpieza de Datos\n",
    "\n",
    "1. Cargar los datos de ventas y clientes desde los archivos CSV generados utilizando Pandas y almacenarlos en DataFrames separados.\n",
    "2. Realizar una limpieza de datos inicial en ambos DataFrames, manejando los valores nulos y convirtiendo los tipos de datos según sea necesario.\n",
    "   Documentar en el informe los pasos realizados para la limpieza de datos. Realizar una limpieza de datos inicial en ambos DataFrames, \n",
    "   manejando los valores nulos y convirtiendo los tipos de datos según sea necesario. Documentar en el informe los pasos realizados para la limpieza de datos. \n",
    "\n",
    "### Ventas:"
   ]
  },
  {
   "cell_type": "code",
   "execution_count": null,
   "id": "ae2bc98e-7556-4f24-b4d2-31be70c727e3",
   "metadata": {},
   "outputs": [],
   "source": [
    "df_ventas = ld.LeerArchivo(\"data/ventas.csv\")\n",
    "df_ventas.head()"
   ]
  },
  {
   "cell_type": "markdown",
   "id": "ef7c73a4",
   "metadata": {},
   "source": [
    "El metodo a continuación limpia datos de acuerdo al siguiente algoritmo\n",
    "> Eliminación de datos nulos ≥ 5% < Imputación de datos nulos "
   ]
  },
  {
   "cell_type": "code",
   "execution_count": null,
   "id": "8125935a-eaeb-4977-8db8-e0e68a9cfa13",
   "metadata": {},
   "outputs": [],
   "source": [
    "df_ventas = ld.Limpiar_Datos(df_ventas,'ventas')\n",
    "df_ventas.head()"
   ]
  },
  {
   "cell_type": "markdown",
   "id": "6f758ca4",
   "metadata": {},
   "source": [
    "Procederemos a parsear los datos:"
   ]
  },
  {
   "cell_type": "code",
   "execution_count": null,
   "id": "510fd465",
   "metadata": {},
   "outputs": [],
   "source": [
    "ld.Conversion_Datos(df_ventas,'ventas')\n",
    "df_ventas.head()"
   ]
  },
  {
   "cell_type": "markdown",
   "id": "237008b7",
   "metadata": {},
   "source": [
    "#### Clientes:"
   ]
  },
  {
   "cell_type": "code",
   "execution_count": null,
   "id": "d8c28162-9f40-4bf0-a0e6-5cecd415d2e9",
   "metadata": {},
   "outputs": [],
   "source": [
    "df_clientes = ld.LeerArchivo(\"data/clientes.csv\")\n",
    "df_clientes.head()"
   ]
  },
  {
   "cell_type": "markdown",
   "id": "722ef7a6",
   "metadata": {},
   "source": [
    "El metodo a continuación limpia datos de acuerdo al siguiente algoritmo\n",
    "> Eliminación de datos nulos ≥ 5% < Imputación de datos nulos "
   ]
  },
  {
   "cell_type": "code",
   "execution_count": null,
   "id": "dc113f9a-e83c-4e01-ad69-bd38e71b9146",
   "metadata": {},
   "outputs": [],
   "source": [
    "df_clientes = ld.Limpiar_Datos(df_clientes,'clientes')\n",
    "df_clientes.head()"
   ]
  },
  {
   "cell_type": "markdown",
   "id": "cccd10b0",
   "metadata": {},
   "source": [
    "Procederemos a parsear los datos:"
   ]
  },
  {
   "cell_type": "code",
   "execution_count": null,
   "id": "9faccced",
   "metadata": {},
   "outputs": [],
   "source": [
    "df_clientes = ld.Conversion_Datos(df_clientes,'clientes')\n",
    "df_clientes.head()"
   ]
  },
  {
   "cell_type": "markdown",
   "id": "9473c05d",
   "metadata": {},
   "source": [
    "# Modelado de los Datos\n",
    "\n",
    "1. Cruzar los DataFrames de películas y ratings utilizando la columna \"ID_Cliente\" como clave primaria."
   ]
  },
  {
   "cell_type": "code",
   "execution_count": 42,
   "id": "b7e55085",
   "metadata": {},
   "outputs": [
    {
     "data": {
      "text/html": [
       "<div>\n",
       "<style scoped>\n",
       "    .dataframe tbody tr th:only-of-type {\n",
       "        vertical-align: middle;\n",
       "    }\n",
       "\n",
       "    .dataframe tbody tr th {\n",
       "        vertical-align: top;\n",
       "    }\n",
       "\n",
       "    .dataframe thead th {\n",
       "        text-align: right;\n",
       "    }\n",
       "</style>\n",
       "<table border=\"1\" class=\"dataframe\">\n",
       "  <thead>\n",
       "    <tr style=\"text-align: right;\">\n",
       "      <th></th>\n",
       "      <th>ID_Venta</th>\n",
       "      <th>ID_Cliente</th>\n",
       "      <th>Categoría</th>\n",
       "      <th>Producto</th>\n",
       "      <th>Precio</th>\n",
       "      <th>Cantidad</th>\n",
       "      <th>Nombre</th>\n",
       "      <th>Edad</th>\n",
       "      <th>Genero</th>\n",
       "      <th>Ubicacion</th>\n",
       "    </tr>\n",
       "  </thead>\n",
       "  <tbody>\n",
       "    <tr>\n",
       "      <th>0</th>\n",
       "      <td>1</td>\n",
       "      <td>43</td>\n",
       "      <td>Tecnologia</td>\n",
       "      <td>Lámpara</td>\n",
       "      <td>31359</td>\n",
       "      <td>1</td>\n",
       "      <td>Daniel White</td>\n",
       "      <td>39</td>\n",
       "      <td>Masculino</td>\n",
       "      <td>Sur</td>\n",
       "    </tr>\n",
       "    <tr>\n",
       "      <th>1</th>\n",
       "      <td>2</td>\n",
       "      <td>37</td>\n",
       "      <td>Electrónica</td>\n",
       "      <td>Tablet</td>\n",
       "      <td>248113</td>\n",
       "      <td>4</td>\n",
       "      <td>Olivia Hall</td>\n",
       "      <td>46</td>\n",
       "      <td>Femenino</td>\n",
       "      <td>Sur</td>\n",
       "    </tr>\n",
       "    <tr>\n",
       "      <th>2</th>\n",
       "      <td>3</td>\n",
       "      <td>49</td>\n",
       "      <td>Hogar</td>\n",
       "      <td>Lavadora</td>\n",
       "      <td>452362</td>\n",
       "      <td>4</td>\n",
       "      <td>Ethan Scott</td>\n",
       "      <td>40</td>\n",
       "      <td>Masculino</td>\n",
       "      <td>Sur</td>\n",
       "    </tr>\n",
       "    <tr>\n",
       "      <th>3</th>\n",
       "      <td>4</td>\n",
       "      <td>13</td>\n",
       "      <td>Electrónica</td>\n",
       "      <td>Teléfono</td>\n",
       "      <td>506606</td>\n",
       "      <td>3</td>\n",
       "      <td>Noah Robertson</td>\n",
       "      <td>54</td>\n",
       "      <td>Masculino</td>\n",
       "      <td>Centro</td>\n",
       "    </tr>\n",
       "    <tr>\n",
       "      <th>4</th>\n",
       "      <td>5</td>\n",
       "      <td>42</td>\n",
       "      <td>Hogar</td>\n",
       "      <td>Refrigerador</td>\n",
       "      <td>369171</td>\n",
       "      <td>2</td>\n",
       "      <td>Jesus Brown</td>\n",
       "      <td>48</td>\n",
       "      <td>Masculino</td>\n",
       "      <td>Norte</td>\n",
       "    </tr>\n",
       "  </tbody>\n",
       "</table>\n",
       "</div>"
      ],
      "text/plain": [
       "   ID_Venta  ID_Cliente    Categoría      Producto  Precio  Cantidad  \\\n",
       "0         1          43   Tecnologia       Lámpara   31359         1   \n",
       "1         2          37  Electrónica        Tablet  248113         4   \n",
       "2         3          49        Hogar      Lavadora  452362         4   \n",
       "3         4          13  Electrónica      Teléfono  506606         3   \n",
       "4         5          42        Hogar  Refrigerador  369171         2   \n",
       "\n",
       "           Nombre  Edad     Genero Ubicacion  \n",
       "0    Daniel White    39  Masculino       Sur  \n",
       "1     Olivia Hall    46   Femenino       Sur  \n",
       "2     Ethan Scott    40  Masculino       Sur  \n",
       "3  Noah Robertson    54  Masculino    Centro  \n",
       "4     Jesus Brown    48  Masculino     Norte  "
      ]
     },
     "execution_count": 42,
     "metadata": {},
     "output_type": "execute_result"
    }
   ],
   "source": [
    "merged_df = df_ventas.merge(df_clientes, on='ID_Cliente')\n",
    "merged_df.head()"
   ]
  },
  {
   "cell_type": "code",
   "execution_count": 44,
   "id": "884c7fed",
   "metadata": {},
   "outputs": [
    {
     "data": {
      "text/html": [
       "<div>\n",
       "<style scoped>\n",
       "    .dataframe tbody tr th:only-of-type {\n",
       "        vertical-align: middle;\n",
       "    }\n",
       "\n",
       "    .dataframe tbody tr th {\n",
       "        vertical-align: top;\n",
       "    }\n",
       "\n",
       "    .dataframe thead th {\n",
       "        text-align: right;\n",
       "    }\n",
       "</style>\n",
       "<table border=\"1\" class=\"dataframe\">\n",
       "  <thead>\n",
       "    <tr style=\"text-align: right;\">\n",
       "      <th></th>\n",
       "      <th>ID_Cliente</th>\n",
       "      <th>Nombre</th>\n",
       "      <th>Edad</th>\n",
       "      <th>Genero</th>\n",
       "      <th>ID_Venta</th>\n",
       "      <th>Categoría</th>\n",
       "      <th>Producto</th>\n",
       "      <th>Precio</th>\n",
       "      <th>Cantidad</th>\n",
       "    </tr>\n",
       "  </thead>\n",
       "  <tbody>\n",
       "    <tr>\n",
       "      <th>0</th>\n",
       "      <td>43</td>\n",
       "      <td>Daniel White</td>\n",
       "      <td>39</td>\n",
       "      <td>Masculino</td>\n",
       "      <td>1</td>\n",
       "      <td>Tecnologia</td>\n",
       "      <td>Lámpara</td>\n",
       "      <td>31359</td>\n",
       "      <td>1</td>\n",
       "    </tr>\n",
       "    <tr>\n",
       "      <th>1</th>\n",
       "      <td>37</td>\n",
       "      <td>Olivia Hall</td>\n",
       "      <td>46</td>\n",
       "      <td>Femenino</td>\n",
       "      <td>2</td>\n",
       "      <td>Electrónica</td>\n",
       "      <td>Tablet</td>\n",
       "      <td>248113</td>\n",
       "      <td>4</td>\n",
       "    </tr>\n",
       "    <tr>\n",
       "      <th>2</th>\n",
       "      <td>49</td>\n",
       "      <td>Ethan Scott</td>\n",
       "      <td>40</td>\n",
       "      <td>Masculino</td>\n",
       "      <td>3</td>\n",
       "      <td>Hogar</td>\n",
       "      <td>Lavadora</td>\n",
       "      <td>452362</td>\n",
       "      <td>4</td>\n",
       "    </tr>\n",
       "    <tr>\n",
       "      <th>3</th>\n",
       "      <td>13</td>\n",
       "      <td>Noah Robertson</td>\n",
       "      <td>54</td>\n",
       "      <td>Masculino</td>\n",
       "      <td>4</td>\n",
       "      <td>Electrónica</td>\n",
       "      <td>Teléfono</td>\n",
       "      <td>506606</td>\n",
       "      <td>3</td>\n",
       "    </tr>\n",
       "    <tr>\n",
       "      <th>4</th>\n",
       "      <td>42</td>\n",
       "      <td>Jesus Brown</td>\n",
       "      <td>48</td>\n",
       "      <td>Masculino</td>\n",
       "      <td>5</td>\n",
       "      <td>Hogar</td>\n",
       "      <td>Refrigerador</td>\n",
       "      <td>369171</td>\n",
       "      <td>2</td>\n",
       "    </tr>\n",
       "  </tbody>\n",
       "</table>\n",
       "</div>"
      ],
      "text/plain": [
       "   ID_Cliente          Nombre  Edad     Genero  ID_Venta    Categoría  \\\n",
       "0          43    Daniel White    39  Masculino         1   Tecnologia   \n",
       "1          37     Olivia Hall    46   Femenino         2  Electrónica   \n",
       "2          49     Ethan Scott    40  Masculino         3        Hogar   \n",
       "3          13  Noah Robertson    54  Masculino         4  Electrónica   \n",
       "4          42     Jesus Brown    48  Masculino         5        Hogar   \n",
       "\n",
       "       Producto  Precio  Cantidad  \n",
       "0       Lámpara   31359         1  \n",
       "1        Tablet  248113         4  \n",
       "2      Lavadora  452362         4  \n",
       "3      Teléfono  506606         3  \n",
       "4  Refrigerador  369171         2  "
      ]
     },
     "execution_count": 44,
     "metadata": {},
     "output_type": "execute_result"
    }
   ],
   "source": [
    "merged_df = merged_df.reindex(columns=['ID_Cliente','Nombre','Edad','Genero','ID_Venta','Categoría','Producto','Precio','Cantidad'])\n",
    "merged_df. head() #Cambio de disposiccion de las columnas"
   ]
  },
  {
   "cell_type": "markdown",
   "id": "c813cce7",
   "metadata": {},
   "source": [
    "2. Calcular el promedio de venta de cada producto utilizando una Serie de Pandas."
   ]
  },
  {
   "cell_type": "code",
   "execution_count": 45,
   "id": "07afef3b",
   "metadata": {},
   "outputs": [
    {
     "data": {
      "text/html": [
       "<div>\n",
       "<style scoped>\n",
       "    .dataframe tbody tr th:only-of-type {\n",
       "        vertical-align: middle;\n",
       "    }\n",
       "\n",
       "    .dataframe tbody tr th {\n",
       "        vertical-align: top;\n",
       "    }\n",
       "\n",
       "    .dataframe thead th {\n",
       "        text-align: right;\n",
       "    }\n",
       "</style>\n",
       "<table border=\"1\" class=\"dataframe\">\n",
       "  <thead>\n",
       "    <tr style=\"text-align: right;\">\n",
       "      <th></th>\n",
       "      <th>Producto</th>\n",
       "      <th>Cantidad</th>\n",
       "    </tr>\n",
       "  </thead>\n",
       "  <tbody>\n",
       "    <tr>\n",
       "      <th>0</th>\n",
       "      <td>Audífonos</td>\n",
       "      <td>16</td>\n",
       "    </tr>\n",
       "    <tr>\n",
       "      <th>1</th>\n",
       "      <td>Bateria</td>\n",
       "      <td>9</td>\n",
       "    </tr>\n",
       "    <tr>\n",
       "      <th>2</th>\n",
       "      <td>Batidora</td>\n",
       "      <td>5</td>\n",
       "    </tr>\n",
       "    <tr>\n",
       "      <th>3</th>\n",
       "      <td>Cafetera</td>\n",
       "      <td>9</td>\n",
       "    </tr>\n",
       "    <tr>\n",
       "      <th>4</th>\n",
       "      <td>Computadora</td>\n",
       "      <td>3</td>\n",
       "    </tr>\n",
       "    <tr>\n",
       "      <th>5</th>\n",
       "      <td>Cámara</td>\n",
       "      <td>8</td>\n",
       "    </tr>\n",
       "    <tr>\n",
       "      <th>6</th>\n",
       "      <td>Estufa Eléctrica</td>\n",
       "      <td>6</td>\n",
       "    </tr>\n",
       "    <tr>\n",
       "      <th>7</th>\n",
       "      <td>Horno Eléctrico</td>\n",
       "      <td>5</td>\n",
       "    </tr>\n",
       "    <tr>\n",
       "      <th>8</th>\n",
       "      <td>Laptop</td>\n",
       "      <td>4</td>\n",
       "    </tr>\n",
       "    <tr>\n",
       "      <th>9</th>\n",
       "      <td>Lavadora</td>\n",
       "      <td>9</td>\n",
       "    </tr>\n",
       "    <tr>\n",
       "      <th>10</th>\n",
       "      <td>Licuadora</td>\n",
       "      <td>5</td>\n",
       "    </tr>\n",
       "    <tr>\n",
       "      <th>11</th>\n",
       "      <td>Lámpara</td>\n",
       "      <td>2</td>\n",
       "    </tr>\n",
       "    <tr>\n",
       "      <th>12</th>\n",
       "      <td>Refrigerador</td>\n",
       "      <td>3</td>\n",
       "    </tr>\n",
       "    <tr>\n",
       "      <th>13</th>\n",
       "      <td>Tablet</td>\n",
       "      <td>6</td>\n",
       "    </tr>\n",
       "    <tr>\n",
       "      <th>14</th>\n",
       "      <td>Televisor</td>\n",
       "      <td>4</td>\n",
       "    </tr>\n",
       "    <tr>\n",
       "      <th>15</th>\n",
       "      <td>Teléfono</td>\n",
       "      <td>4</td>\n",
       "    </tr>\n",
       "    <tr>\n",
       "      <th>16</th>\n",
       "      <td>Tostadora</td>\n",
       "      <td>1</td>\n",
       "    </tr>\n",
       "  </tbody>\n",
       "</table>\n",
       "</div>"
      ],
      "text/plain": [
       "            Producto  Cantidad\n",
       "0          Audífonos        16\n",
       "1            Bateria         9\n",
       "2           Batidora         5\n",
       "3           Cafetera         9\n",
       "4        Computadora         3\n",
       "5             Cámara         8\n",
       "6   Estufa Eléctrica         6\n",
       "7    Horno Eléctrico         5\n",
       "8             Laptop         4\n",
       "9           Lavadora         9\n",
       "10         Licuadora         5\n",
       "11           Lámpara         2\n",
       "12      Refrigerador         3\n",
       "13            Tablet         6\n",
       "14         Televisor         4\n",
       "15          Teléfono         4\n",
       "16         Tostadora         1"
      ]
     },
     "execution_count": 45,
     "metadata": {},
     "output_type": "execute_result"
    }
   ],
   "source": [
    "Ventas_media = merged_df.groupby('Producto')['Cantidad'].size().to_frame(name=\"Cantidad\").reset_index()# Calcular el promedio de ventas\n",
    "Ventas_media"
   ]
  },
  {
   "cell_type": "markdown",
   "id": "0d525341",
   "metadata": {},
   "source": [
    "3. Generar una tabla que muestre la cantidad de ventas por Categoria y Precio utilizando las funciones de agregación de Pandas."
   ]
  },
  {
   "cell_type": "code",
   "execution_count": null,
   "id": "d82a36e4",
   "metadata": {},
   "outputs": [],
   "source": [
    "productos_mayor_venta = Ventas_media.nlargest(10, 'count') #Tabla de ventas por categoría y precio\n",
    "productos_mayor_venta"
   ]
  },
  {
   "cell_type": "markdown",
   "id": "4653f80c",
   "metadata": {},
   "source": [
    "4. Identificar los 10 Productos con mayor venta y los 10 productos con promedio más bajo utilizando indexación fancy y slicing en el DataFrame cruzado."
   ]
  },
  {
   "cell_type": "code",
   "execution_count": null,
   "id": "3dda50d7",
   "metadata": {},
   "outputs": [],
   "source": [
    "df_combinado_ordenado = merged_df.sort_values(by='Cantidad', ascending=True) #10 productos con mayor venta:\n",
    "df_combinado_ordenado.head(10)"
   ]
  },
  {
   "cell_type": "code",
   "execution_count": null,
   "id": "45ff7add",
   "metadata": {},
   "outputs": [],
   "source": [
    "productos_menor_promedio = df_combinado_ordenado.head(10) #10 productos con menor promedio:\n",
    "productos_menor_promedio"
   ]
  },
  {
   "cell_type": "markdown",
   "id": "8f01422c",
   "metadata": {},
   "source": [
    "# Visualización de los Datos\n",
    "\n",
    "8.    Crear una visualización básica con Seaborn que muestre la distribución de edades de\n",
    "los clientes por género.\n",
    "9.    Guardar los resultados generados en un archivo Excel."
   ]
  },
  {
   "cell_type": "code",
   "execution_count": 28,
   "id": "871424fb",
   "metadata": {},
   "outputs": [
    {
     "data": {
      "image/png": "[encoded data removed]",
      "text/plain": [
       "<Figure size 1000x600 with 1 Axes>"
      ]
     },
     "metadata": {},
     "output_type": "display_data"
    }
   ],
   "source": [
    "vs.Grafico(merged_df)"
   ]
  }
 ],
 "metadata": {
  "kernelspec": {
   "display_name": "Python 3 (ipykernel)",
   "language": "python",
   "name": "python3"
  },
  "language_info": {
   "codemirror_mode": {
    "name": "ipython",
    "version": 3
   },
   "file_extension": ".py",
   "mimetype": "text/x-python",
   "name": "python",
   "nbconvert_exporter": "python",
   "pygments_lexer": "ipython3",
   "version": "3.12.3"
  }
 },
 "nbformat": 4,
 "nbformat_minor": 5
}
