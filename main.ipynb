{
 "cells": [
  {
   "cell_type": "markdown",
   "id": "3fa267e9-0d45-4f48-913c-c1531add7d50",
   "metadata": {},
   "source": [
    "### Importacion de Librerias y Modulos"
   ]
  },
  {
   "cell_type": "code",
   "execution_count": 6,
   "id": "f0c4217c-06c8-4239-af68-8ae3c302ce28",
   "metadata": {},
   "outputs": [],
   "source": [
    "from functions.datos import *\n",
    "import pandas as pd\n",
    "import numpy as np"
   ]
  },
  {
   "cell_type": "markdown",
   "id": "4d1fb8a3-40a7-412a-a288-ec674a46ab22",
   "metadata": {},
   "source": [
    "# Generar archivos CSV para Ventas y Clientes\n",
    "\n",
    "### Contenido:\n",
    "Modulo datos.py creado para generar csv bajo los siguientes lineamientos:\n",
    "\n",
    "1. Generar dos archivos CSV llamados \"ventas.csv\" y \"clientes.csv\" que contengan los datos de ventas y clientes, respectivamente. \n",
    "2. Los datos deben ser generados aleatoriamente utilizando funciones de probabilidad (indique en su informe que distribución uso: uniforme, normal u otra).\n",
    "3. Los valores nulos deben representarse con la palabra \"NULL\". En el archivo \"ventas.csv\"\n",
    "    - La columna \"Producto\" puede contener hasta un 10% de valores nulos. \n",
    "    - En el archivo \"clientes.csv\", las columnas \"Nombre\" y \"Edad\" pueden contener hasta un 5% de valores nulos cada una."
   ]
  },
  {
   "cell_type": "code",
   "execution_count": 8,
   "id": "3576e249-9dde-4bfc-81d8-fd45d4e69f74",
   "metadata": {
    "scrolled": true
   },
   "outputs": [
    {
     "name": "stdout",
     "output_type": "stream",
     "text": [
      "Archivo CSV generado con exito\n",
      "    ID_Venta  ID_Cliente    Categoría         Producto  Precio Cantidad\n",
      "0        1.0         NaN        Hogar         Lavadora  164990        3\n",
      "1        2.0         NaN        Hogar         Lavadora  164990        3\n",
      "2        3.0         2.0        Hogar         Lavadora  164990        2\n",
      "3        4.0         3.0        Hogar     Refrigerador  199990        5\n",
      "4        5.0         3.0        Hogar  Horno Electrico  189990        2\n",
      "..       ...         ...          ...              ...     ...      ...\n",
      "95      96.0         1.0        Hogar     Refrigerador  199990        2\n",
      "96      97.0         1.0        Hogar          Lámpara    4990        2\n",
      "97      98.0         2.0        Hogar         Lavadora  164990        5\n",
      "98      99.0         2.0  Electrónica        Televisor  159990        3\n",
      "99       NaN         NaN        Hogar             NULL    1500        2\n",
      "\n",
      "[100 rows x 6 columns]\n",
      "Archivo CSV generado con exito\n"
     ]
    }
   ],
   "source": [
    "Simulador_Ventas(100,5)"
   ]
  },
  {
   "cell_type": "markdown",
   "id": "d12d968b-4b35-4aff-a93a-e3d4a66c27c9",
   "metadata": {},
   "source": [
    "# Limpieza de Datos\n",
    "\n",
    "1. Cargar los datos de ventas y clientes desde los archivos CSV generados utilizando Pandas y almacenarlos en DataFrames separados.\n",
    "2. Realizar una limpieza de datos inicial en ambos DataFrames, manejando los valores nulos y convirtiendo los tipos de datos según sea necesario.\n",
    "   Documentar en el informe los pasos realizados para la limpieza de datos. Realizar una limpieza de datos inicial en ambos DataFrames, \n",
    "   manejando los valores nulos y convirtiendo los tipos de datos según sea necesario. Documentar en el informe los pasos realizados para la limpieza de datos. \n"
   ]
  },
  {
   "cell_type": "code",
   "execution_count": 3,
   "id": "ae2bc98e-7556-4f24-b4d2-31be70c727e3",
   "metadata": {},
   "outputs": [
    {
     "name": "stdout",
     "output_type": "stream",
     "text": [
      "<class 'pandas.core.frame.DataFrame'>\n",
      "RangeIndex: 10 entries, 0 to 9\n",
      "Data columns (total 7 columns):\n",
      " #   Column      Non-Null Count  Dtype  \n",
      "---  ------      --------------  -----  \n",
      " 0   ID_Venta    9 non-null      float64\n",
      " 1   ID_Cliente  8 non-null      float64\n",
      " 2   Categoría   0 non-null      float64\n",
      " 3   Producto    8 non-null      object \n",
      " 4   Precio      10 non-null     int64  \n",
      " 5   Cantidad    10 non-null     int64  \n",
      " 6   Categoria   10 non-null     object \n",
      "dtypes: float64(3), int64(2), object(2)\n",
      "memory usage: 692.0+ bytes\n",
      "None\n",
      "<class 'pandas.core.frame.DataFrame'>\n",
      "RangeIndex: 5 entries, 0 to 4\n",
      "Data columns (total 5 columns):\n",
      " #   Column      Non-Null Count  Dtype  \n",
      "---  ------      --------------  -----  \n",
      " 0   ID_Cliente  4 non-null      float64\n",
      " 1   Nombre      5 non-null      object \n",
      " 2   Edad        5 non-null      int64  \n",
      " 3   Genero      5 non-null      object \n",
      " 4   Ubicacion   5 non-null      object \n",
      "dtypes: float64(1), int64(1), object(3)\n",
      "memory usage: 332.0+ bytes\n",
      "None\n"
     ]
    }
   ],
   "source": [
    "\n",
    "\n",
    "df_ventas = pd.read_csv(\"data/ventas.csv\")\n",
    "df_clientes = pd.read_csv(\"data/clientes.csv\")\n",
    "\n",
    "print(df_ventas.info())\n",
    "print(df_clientes.info())"
   ]
  },
  {
   "cell_type": "markdown",
   "id": "fff187fe-ce61-4619-9466-6ffb9283daf8",
   "metadata": {},
   "source": [
    "# Analisis de Datos"
   ]
  },
  {
   "cell_type": "code",
   "execution_count": null,
   "id": "c3ad2263-da6e-4bc9-824b-95870fdf7325",
   "metadata": {},
   "outputs": [],
   "source": []
  }
 ],
 "metadata": {
  "kernelspec": {
   "display_name": "Python 3 (ipykernel)",
   "language": "python",
   "name": "python3"
  },
  "language_info": {
   "codemirror_mode": {
    "name": "ipython",
    "version": 3
   },
   "file_extension": ".py",
   "mimetype": "text/x-python",
   "name": "python",
   "nbconvert_exporter": "python",
   "pygments_lexer": "ipython3",
   "version": "3.12.3"
  }
 },
 "nbformat": 4,
 "nbformat_minor": 5
}
