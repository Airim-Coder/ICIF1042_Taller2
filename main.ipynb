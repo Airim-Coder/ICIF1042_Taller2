{
 "cells": [
  {
   "cell_type": "markdown",
   "id": "d35d7a05-58e0-4513-9679-e7a205b83dc5",
   "metadata": {},
   "source": [
    "### Importacion de Librerias y Modulos"
   ]
  },
  {
   "cell_type": "code",
   "execution_count": null,
   "id": "f0c4217c-06c8-4239-af68-8ae3c302ce28",
   "metadata": {},
   "outputs": [],
   "source": [
    "from functions.datos import Simulador_Ventas\n",
    "import functions.limpiar_datos as ld\n",
    "import functions.visualizacion as vs"
   ]
  },
  {
   "cell_type": "markdown",
   "id": "4d1fb8a3-40a7-412a-a288-ec674a46ab22",
   "metadata": {},
   "source": [
    "# Generar archivos CSV para Ventas y Clientes\n",
    "\n",
    "### Contenido:\n",
    "Modulo datos.py creado para generar csv bajo los siguientes lineamientos:\n",
    "\n",
    "1. Generar dos archivos CSV llamados \"ventas.csv\" y \"clientes.csv\" que contengan los datos de ventas y clientes, respectivamente. \n",
    "2. Los datos deben ser generados aleatoriamente utilizando funciones de probabilidad (indique en su informe que distribución uso: uniforme, normal u otra).\n",
    "3. Los valores nulos deben representarse con la palabra \"NULL\". En el archivo \"ventas.csv\"\n",
    "    - La columna \"Producto\" puede contener hasta un 10% de valores nulos. \n",
    "    - En el archivo \"clientes.csv\", las columnas \"Nombre\" y \"Edad\" pueden contener hasta un 5% de valores nulos cada una."
   ]
  },
  {
   "cell_type": "markdown",
   "id": "931e26d1",
   "metadata": {},
   "source": [
    "Simula una Venta indicando:\n",
    "- num_venta = ¿Cuántas ventas te gustaria simular?\n",
    "- num_clientes ¿Cuántos clientes contemplará?"
   ]
  },
  {
   "cell_type": "code",
   "execution_count": null,
   "id": "3576e249-9dde-4bfc-81d8-fd45d4e69f74",
   "metadata": {
    "scrolled": true
   },
   "outputs": [],
   "source": [
    "num_ventas = 100\n",
    "num_clientes = 50\n",
    "Simulador_Ventas(num_ventas,num_clientes)"
   ]
  },
  {
   "cell_type": "markdown",
   "id": "d12d968b-4b35-4aff-a93a-e3d4a66c27c9",
   "metadata": {},
   "source": [
    "# Limpieza de Datos\n",
    "\n",
    "1. Cargar los datos de ventas y clientes desde los archivos CSV generados utilizando Pandas y almacenarlos en DataFrames separados.\n",
    "2. Realizar una limpieza de datos inicial en ambos DataFrames, manejando los valores nulos y convirtiendo los tipos de datos según sea necesario.\n",
    "   Documentar en el informe los pasos realizados para la limpieza de datos. Realizar una limpieza de datos inicial en ambos DataFrames, \n",
    "   manejando los valores nulos y convirtiendo los tipos de datos según sea necesario. Documentar en el informe los pasos realizados para la limpieza de datos. \n",
    "\n",
    "### Ventas:"
   ]
  },
  {
   "cell_type": "code",
   "execution_count": null,
   "id": "ae2bc98e-7556-4f24-b4d2-31be70c727e3",
   "metadata": {},
   "outputs": [],
   "source": [
    "df_ventas = ld.LeerArchivo(\"data/ventas.csv\")\n",
    "df_ventas.head()"
   ]
  },
  {
   "cell_type": "markdown",
   "id": "ef7c73a4",
   "metadata": {},
   "source": [
    "El metodo a continuación limpia datos de acuerdo al siguiente algoritmo\n",
    "> Eliminación de datos nulos ≥ 5% < Imputación de datos nulos "
   ]
  },
  {
   "cell_type": "code",
   "execution_count": null,
   "id": "8125935a-eaeb-4977-8db8-e0e68a9cfa13",
   "metadata": {},
   "outputs": [],
   "source": [
    "df_ventas = ld.Limpiar_Datos(df_ventas,'ventas')\n",
    "df_ventas.head()"
   ]
  },
  {
   "cell_type": "markdown",
   "id": "6f758ca4",
   "metadata": {},
   "source": [
    "Procederemos a parsear los datos:"
   ]
  },
  {
   "cell_type": "code",
   "execution_count": null,
   "id": "510fd465",
   "metadata": {},
   "outputs": [],
   "source": [
    "ld.Conversion_Datos(df_ventas,'ventas')\n",
    "df_ventas.head()"
   ]
  },
  {
   "cell_type": "markdown",
   "id": "237008b7",
   "metadata": {},
   "source": [
    "#### Clientes:"
   ]
  },
  {
   "cell_type": "code",
   "execution_count": null,
   "id": "d8c28162-9f40-4bf0-a0e6-5cecd415d2e9",
   "metadata": {},
   "outputs": [],
   "source": [
    "df_clientes = ld.LeerArchivo(\"data/clientes.csv\")\n",
    "df_clientes.head()"
   ]
  },
  {
   "cell_type": "markdown",
   "id": "722ef7a6",
   "metadata": {},
   "source": [
    "El metodo a continuación limpia datos de acuerdo al siguiente algoritmo\n",
    "> Eliminación de datos nulos ≥ 5% < Imputación de datos nulos "
   ]
  },
  {
   "cell_type": "code",
   "execution_count": null,
   "id": "dc113f9a-e83c-4e01-ad69-bd38e71b9146",
   "metadata": {},
   "outputs": [],
   "source": [
    "df_clientes = ld.Limpiar_Datos(df_clientes,'clientes')\n",
    "df_clientes.head()"
   ]
  },
  {
   "cell_type": "markdown",
   "id": "cccd10b0",
   "metadata": {},
   "source": [
    "Procederemos a parsear los datos:"
   ]
  },
  {
   "cell_type": "code",
   "execution_count": null,
   "id": "9faccced",
   "metadata": {},
   "outputs": [],
   "source": [
    "df_clientes = ld.Conversion_Datos(df_clientes,'clientes')\n",
    "df_clientes.head()"
   ]
  },
  {
   "cell_type": "markdown",
   "id": "9473c05d",
   "metadata": {},
   "source": [
    "# Modelado de los Datos\n",
    "\n",
    "1. Cruzar los DataFrames de películas y ratings utilizando la columna \"ID_Cliente\" como clave primaria."
   ]
  },
  {
   "cell_type": "code",
   "execution_count": null,
   "id": "b7e55085",
   "metadata": {},
   "outputs": [],
   "source": [
    "merged_df = df_ventas.merge(df_clientes, on='ID_Cliente')\n",
    "merged_df.head()"
   ]
  },
  {
   "cell_type": "code",
   "execution_count": null,
   "id": "884c7fed",
   "metadata": {},
   "outputs": [],
   "source": [
    "merged_df = merged_df.reindex(columns=['ID_Cliente','Nombre','Edad','Genero','ID_Venta','Categoría','Producto','Precio','Cantidad'])\n",
    "merged_df. head() #Cambio de disposiccion de las columnas"
   ]
  },
  {
   "cell_type": "markdown",
   "id": "c813cce7",
   "metadata": {},
   "source": [
    "2. Calcular el promedio de venta de cada producto utilizando una Serie de Pandas."
   ]
  },
  {
   "cell_type": "code",
   "execution_count": null,
   "id": "07afef3b",
   "metadata": {},
   "outputs": [],
   "source": [
    "Ventas_media = merged_df.groupby('Producto')['Cantidad'].size().to_frame(name=\"Cantidad\").reset_index()# Calcular el promedio de ventas\n",
    "Ventas_media"
   ]
  },
  {
   "cell_type": "markdown",
   "id": "0d525341",
   "metadata": {},
   "source": [
    "3. Generar una tabla que muestre la cantidad de ventas por Categoria y Producto utilizando las funciones de agregación de Pandas."
   ]
  },
  {
   "cell_type": "code",
   "execution_count": null,
   "id": "d82a36e4",
   "metadata": {},
   "outputs": [],
   "source": [
    "media_edad_categoria= merged_df.groupby('Categoría')['Edad'].mean().reset_index().round()\n",
    "media_edad_categoria.head()"
   ]
  },
  {
   "cell_type": "markdown",
   "id": "4653f80c",
   "metadata": {},
   "source": [
    "4. Identificar los 10 Productos con mayor venta utilizando indexación fancy y slicing en el DataFrame cruzado."
   ]
  },
  {
   "cell_type": "code",
   "execution_count": null,
   "id": "3dda50d7",
   "metadata": {},
   "outputs": [],
   "source": [
    "pivot_ventas = merged_df.pivot_table(index='Producto', columns='Cantidad', values='Precio', aggfunc=sum)\n",
    "top_mas_vendidos = top_mas_vendidos = pivot_ventas.sum(axis=1).head(10)\n",
    "\n",
    "top_mas_vendidos.head(10)"
   ]
  },
  {
   "cell_type": "markdown",
   "id": "a2f2c0fc",
   "metadata": {},
   "source": [
    "4. y los 10 productos con promedio más bajo utilizando indexación fancy y slicing en el DataFrame cruzado."
   ]
  },
  {
   "cell_type": "code",
   "execution_count": null,
   "id": "45ff7add",
   "metadata": {},
   "outputs": [],
   "source": [
    "top_menos_vendidos = pivot_ventas.mean(axis=1).tail(10)\n",
    "top_menos_vendidos.head(10).round()"
   ]
  },
  {
   "cell_type": "markdown",
   "id": "8f01422c",
   "metadata": {},
   "source": [
    "# Visualización de los Datos\n",
    "\n",
    "8.    Crear una visualización básica con Seaborn que muestre la distribución de edades de\n",
    "los clientes por género."
   ]
  },
  {
   "cell_type": "code",
   "execution_count": null,
   "id": "871424fb",
   "metadata": {},
   "outputs": [],
   "source": [
    "vs.Grafico(merged_df)"
   ]
  },
  {
   "cell_type": "markdown",
   "id": "5acf238f",
   "metadata": {},
   "source": [
    "# Exportar a Excel\n",
    "9.    Guardar los resultados generados en un archivo Excel."
   ]
  },
  {
   "cell_type": "code",
   "execution_count": null,
   "id": "3f7d44ce",
   "metadata": {},
   "outputs": [],
   "source": [
    "vs.Excel(merged_df,media_edad_categoria,top_mas_vendidos,top_menos_vendidos)"
   ]
  }
 ],
 "metadata": {
  "kernelspec": {
   "display_name": "Python 3 (ipykernel)",
   "language": "python",
   "name": "python3"
  },
  "language_info": {
   "codemirror_mode": {
    "name": "ipython",
    "version": 3
   },
   "file_extension": ".py",
   "mimetype": "text/x-python",
   "name": "python",
   "nbconvert_exporter": "python",
   "pygments_lexer": "ipython3",
   "version": "3.12.3"
  }
 },
 "nbformat": 4,
 "nbformat_minor": 5
}
